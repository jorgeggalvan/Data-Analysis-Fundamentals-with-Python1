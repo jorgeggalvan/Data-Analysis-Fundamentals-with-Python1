{
 "cells": [
  {
   "cell_type": "markdown",
   "id": "048be9ea-66ac-44f6-b677-333b6ccf159c",
   "metadata": {
    "editable": true,
    "slideshow": {
     "slide_type": ""
    },
    "tags": []
   },
   "source": [
    "# 🐍 **Introducción a Python para el Análisis de Datos**<br>\n",
    "\n",
    "### 👨‍💻 Jorge Gómez Galván\n",
    "* LinkedIn: [linkedin.com/in/jorgeggalvan/](https://www.linkedin.com/in/jorgeggalvan/) \n",
    "* E-mail: gomezgalvanjorge@gmail.com\n",
    "\n",
    "## **Capítulo 1: Python Base**\n",
    "---\n",
    "\n",
    "Este notebook introduce los conceptos fundamentales de Python para su posterior aplicación al análisis de datos, utilizando únicamente la sintaxis nativa, es decir, sin librerías externas. Cubre desde la declaración de objetos, estructuras de datos como listas y diccionarios, y operadores, hasta el uso de condicionales y bucles.\n",
    "\n",
    "*El notebook ha sido adaptado a partir del trabajo de Juan Martín Bellido, cuyo contenido original se encuentra en [este enlace](https://github.com/jmartinbellido/Python-Curso-Introductorio/blob/main/Capitulo%201%20Python%20Base.ipynb).*"
   ]
  },
  {
   "cell_type": "markdown",
   "id": "9252284e-2c64-4c09-9433-119429039e76",
   "metadata": {},
   "source": [
    "### Índice\n",
    "---\n",
    "\n",
    "[1. Introducción a objetos](#1.1---Introducción-a-objetos)  \n",
    "[2. Estructuras de datos básicas](#1.2---Estructuras-de-datos-básicas)  \n",
    "[3. Operadores](#1.3---Operadores)  \n",
    "[4. Funciones y métodos](#1.4---Funciones-y-métodos)  \n",
    "[5. Condicionales](#1.5---Condicionales)  \n",
    "[6. Bucles](#1.6---Bucles)  \n",
    "[7. Ejercicios](#1.7---Ejercicios)  "
   ]
  },
  {
   "cell_type": "markdown",
   "id": "4c3e09a3-0934-49d9-8132-ec1f6ba77e58",
   "metadata": {
    "tags": []
   },
   "source": [
    "### 1.1 - Introducción a objetos\n",
    "---"
   ]
  },
  {
   "cell_type": "markdown",
   "id": "c9a30ced-5ea8-460e-b3e2-3ce442ee311d",
   "metadata": {},
   "source": [
    "#### Comentar código\n",
    "\n",
    "Los comentarios son fundamentales para proporcionar información adicional al código, permitiendo añadir anotaciones sin que estas afecten a su ejecución. \n",
    "\n",
    "👉 En un entorno como Jupyter Notebook, además de poder escribir y ejecutar celdas de código de forma independiente, también se puede crear celdas de texto (Markdown), permitiendo escribir texto plano y formateado, como títulos, listas, negritas, cursivas, imágenes, etc. En cambio, en los IDEs (entornos de desarrollo integrado) esto no es posible y la única manera de incluir anotaciones es mediante comentarios en el código.\n",
    "\n",
    "Para comentar código en Python, simplemente hay que añadir el símbolo de `#` o abrir y cerrar con `\"\"\"`.\n",
    "\n",
    "> ```python\n",
    "> # Comment\n",
    "> ```\n",
    "\n",
    "> ```python\n",
    "> \"\"\"\n",
    "> Multi-line\n",
    "> comment\n",
    "> \"\"\"\n",
    "> ```"
   ]
  },
  {
   "cell_type": "code",
   "execution_count": 1,
   "id": "2bb27f87-64ab-453f-bd68-999f25720bf8",
   "metadata": {},
   "outputs": [
    {
     "data": {
      "text/plain": [
       "4"
      ]
     },
     "execution_count": 1,
     "metadata": {},
     "output_type": "execute_result"
    }
   ],
   "source": [
    "# Esto es un comentario\n",
    "2 + 2 # Esto también es un comentario"
   ]
  },
  {
   "cell_type": "code",
   "execution_count": 2,
   "id": "d138f9a6-de99-48af-acc8-5523f5ae0367",
   "metadata": {},
   "outputs": [
    {
     "data": {
      "text/plain": [
       "'\\nEsto es un comentario de varias líneas\\nSe usa para documentar el código\\n'"
      ]
     },
     "execution_count": 2,
     "metadata": {},
     "output_type": "execute_result"
    }
   ],
   "source": [
    "\"\"\"\n",
    "Esto es un comentario de varias líneas\n",
    "Se usa para documentar el código\n",
    "\"\"\""
   ]
  },
  {
   "cell_type": "markdown",
   "id": "4e9ba4fd-4da6-46f6-adec-1a3b15d629b4",
   "metadata": {},
   "source": [
    "#### Declarar objetos\n",
    "\n",
    "Python es un lenguaje orientado a objetos. Es decir, que permite guardar información en objetos (variables) que se almacenan de manera temporal en el entorno y que se pueden invocar. Por lo tanto, una variable puede entenderse como un contenedor que almacena información, que puede ser un número, un vector, una cadena de texto, etc.\n",
    "\n",
    "👉 Los términos \"objeto\" y \"variable\" se utilizan de forma indistinta.\n",
    "\n",
    "Para declarar una variable, hay que asignar cualquier palabra como nombre de variable (el nombre no debe contener espacios y sólo puede comenzar por una letra o guion bajo) seguido de `=` con la información que se busque almacenar en esta.\n",
    "\n",
    "> ```python\n",
    "> variable = value\n",
    "> ```\n",
    "\n",
    "👉 A lo largo de la ejecución de un programa, las variables pueden cambiar su valor según las operaciones que se realicen. Esto significa que, a medida que el código progresa, las variables pueden actualizarse, sobreescribiendo su valor inicial para reflejar nuevos resultados.\n",
    "\n",
    "⚠️ Los variables declaradas se perderán únicamente al reiniciar el entorno o al eliminarlas explícitamente."
   ]
  },
  {
   "cell_type": "code",
   "execution_count": 3,
   "id": "f3f58083-5a96-4451-b0ec-1ab996d11229",
   "metadata": {},
   "outputs": [],
   "source": [
    "# Así podemos definir una variable\n",
    "my_name = \"Jorge\" # Definimos el nombre de la variable y almacenamos su valor, en este caso, texto"
   ]
  },
  {
   "cell_type": "markdown",
   "id": "03df89a3-d8ae-40ce-a17f-9c9b2153ad95",
   "metadata": {},
   "source": [
    "Tras declarar una variable, se puede invocarla ejecutando el nombre de la variable."
   ]
  },
  {
   "cell_type": "code",
   "execution_count": 4,
   "id": "4ad2478f-7dfc-4618-89c9-78fe04e1a34d",
   "metadata": {},
   "outputs": [
    {
     "data": {
      "text/plain": [
       "'Jorge'"
      ]
     },
     "execution_count": 4,
     "metadata": {},
     "output_type": "execute_result"
    }
   ],
   "source": [
    "# Ejecutamos la variable definida\n",
    "my_name"
   ]
  },
  {
   "cell_type": "markdown",
   "id": "cffa5b5e-733f-4ea3-bc19-da0eb1ad7980",
   "metadata": {},
   "source": [
    "👉 `print()` es una función en Python que se utiliza para mostrar información durante la ejecución."
   ]
  },
  {
   "cell_type": "code",
   "execution_count": 5,
   "id": "6960a9d7-83a0-4d51-a7ce-5f8399d22880",
   "metadata": {},
   "outputs": [
    {
     "name": "stdout",
     "output_type": "stream",
     "text": [
      "Jorge\n"
     ]
    }
   ],
   "source": [
    "# Podemos ejecutar la variable también con un print\n",
    "print(my_name)"
   ]
  },
  {
   "cell_type": "markdown",
   "id": "9746556e-a50f-46c2-9a8e-9271409d09c5",
   "metadata": {},
   "source": [
    "Se puede declarar más de una variable en la misma línea de código utilizando `;`:\n",
    "\n",
    "> ```python\n",
    "> variable_1 = value_1; variable_2 = value_2\n",
    "```"
   ]
  },
  {
   "cell_type": "markdown",
   "id": "b1972e68-6f33-48f9-80bb-57a78a9d3473",
   "metadata": {},
   "source": [
    "#### Consultar variables declaradas\n",
    "\n",
    "Para poder visualizar las variables declaradas, se puede utilizar el comando `%whos` de Jupyter Notebook.\n",
    "\n",
    "Este comando no es nativo de Python, sino del entorno Jupyter Notebook. Los comandos de este tipo se conocen como \"magic commands\" y se caracterizan por comenzar con el símbolo `%`."
   ]
  },
  {
   "cell_type": "code",
   "execution_count": 6,
   "id": "91858bbb-6da1-46b2-a46c-bb542d1b050d",
   "metadata": {},
   "outputs": [
    {
     "name": "stdout",
     "output_type": "stream",
     "text": [
      "Variable          Type             Data/Info\n",
      "--------------------------------------------\n",
      "NamespaceMagics   MetaHasTraits    <class 'IPython.core.magi<...>mespace.NamespaceMagics'>\n",
      "get_ipython       function         <function get_ipython at 0x0000020F597A4220>\n",
      "json              module           <module 'json' from 'C:\\\\<...>\\Lib\\\\json\\\\__init__.py'>\n",
      "my_name           str              Jorge\n",
      "sys               module           <module 'sys' (built-in)>\n"
     ]
    }
   ],
   "source": [
    "# Consultamos las variables declaradas en nuestro entorno\n",
    "%whos"
   ]
  },
  {
   "cell_type": "markdown",
   "id": "7139912f-0bb6-4fcc-aad6-2d88b50efb3a",
   "metadata": {
    "tags": []
   },
   "source": [
    "#### Eliminar variables declaradas\n",
    "\n",
    "Se utiliza el comando `del` para eliminar explícitamente variables declaradas. Tras haberlas eliminado, se borrarán de la memoria y no se podrán invocar de nuevo.\n",
    "\n",
    "⚠️ Si se intenta invocar una variable eliminada, se devolverá un error."
   ]
  },
  {
   "cell_type": "code",
   "execution_count": 7,
   "id": "a30bfc9b-06f8-4145-9935-6cc86aa1538a",
   "metadata": {},
   "outputs": [],
   "source": [
    "# Eliminamos la variable previamente declarada\n",
    "del my_name"
   ]
  },
  {
   "cell_type": "markdown",
   "id": "3243b86b-c659-40e6-978c-e87bce00203e",
   "metadata": {},
   "source": [
    "Se puede eliminar más de una variable en la misma línea de código utilizando la siguiente sintaxis:\n",
    "\n",
    "> ```python\n",
    "> del var_1, var_2, var_3\n",
    "```"
   ]
  },
  {
   "cell_type": "markdown",
   "id": "d017f6e1-b181-441e-b4d7-680447d16368",
   "metadata": {
    "toc-hr-collapsed": true
   },
   "source": [
    "#### Tipos de objeto\n",
    "\n",
    "Python contempla varios tipos de variables, pero para el análisis de datos los más importantes son los siguientes cuatro:\n",
    "\n",
    "- *Integer*: números enteros\n",
    "- *Float*: números con decimales\n",
    "- *String*: cadenas de texto\n",
    "- *Boolean*: booleanos o lógicos (True y False)\n",
    "\n",
    "La función `type()` permite consultar el tipo de objeto de una variable:\n",
    "\n",
    "> ```python\n",
    "> type(variable)\n",
    "> ```"
   ]
  },
  {
   "cell_type": "markdown",
   "id": "39aab2a8-d68b-47cb-a374-7c170ad42ba2",
   "metadata": {},
   "source": [
    "##### *Integer*"
   ]
  },
  {
   "cell_type": "code",
   "execution_count": 8,
   "id": "d7e8bc77-75f9-4abb-98f2-0abc8ce174e8",
   "metadata": {},
   "outputs": [
    {
     "data": {
      "text/plain": [
       "int"
      ]
     },
     "execution_count": 8,
     "metadata": {},
     "output_type": "execute_result"
    }
   ],
   "source": [
    "# Declaramos una variable de tipo integer\n",
    "int_variable = 14\n",
    "\n",
    "# Consultamos el tipo de objeto de la variable declarada\n",
    "type(int_variable)"
   ]
  },
  {
   "cell_type": "markdown",
   "id": "0b725639-8255-475d-8a4a-5b7c22151bbf",
   "metadata": {},
   "source": [
    "##### *Float*"
   ]
  },
  {
   "cell_type": "code",
   "execution_count": 9,
   "id": "186b8118-ea21-45ec-a55f-b465a2725fc5",
   "metadata": {},
   "outputs": [
    {
     "data": {
      "text/plain": [
       "float"
      ]
     },
     "execution_count": 9,
     "metadata": {},
     "output_type": "execute_result"
    }
   ],
   "source": [
    "# Declaramos una variable de tipo float\n",
    "float_variable = 14.1\n",
    "\n",
    "type(float_variable)"
   ]
  },
  {
   "cell_type": "markdown",
   "id": "3d912e3e-e2ee-44af-9479-16c2e581fbb7",
   "metadata": {},
   "source": [
    "##### *String*"
   ]
  },
  {
   "cell_type": "markdown",
   "id": "598209bc-a70a-4970-b26d-a02d70fe015a",
   "metadata": {},
   "source": [
    "Para cualquier variable de tipo texto, se debe utilizar siempre comillas (estas pueden ser simples o dobles):\n",
    "    \n",
    "> ```python\n",
    "> string_variable = \"Text\"\n",
    "\n",
    "> ```python\n",
    "> string_variable = 'Text'\n",
    "> ```"
   ]
  },
  {
   "cell_type": "code",
   "execution_count": 10,
   "id": "c2e3bcde-bd73-457a-8ede-db00bba83700",
   "metadata": {},
   "outputs": [
    {
     "data": {
      "text/plain": [
       "str"
      ]
     },
     "execution_count": 10,
     "metadata": {},
     "output_type": "execute_result"
    }
   ],
   "source": [
    "# Declaramos una variable de tipo string\n",
    "string_variable = \"Python\"\n",
    "\n",
    "type(string_variable)"
   ]
  },
  {
   "cell_type": "markdown",
   "id": "8638ff6c-ec48-4e5a-ab3f-26194a600c09",
   "metadata": {},
   "source": [
    "##### *Boolean*\n",
    "\n",
    "En Python, los valores booleanos se representan únicamente con `True` y `False`, comenzando con una letra mayúscula. \"true\", \"false\", \"TRUE\" o \"FALSE\" no son reconocidos como booleanos válidos."
   ]
  },
  {
   "cell_type": "code",
   "execution_count": 11,
   "id": "83f65861-cb47-4092-a32b-d42dff30aeb5",
   "metadata": {},
   "outputs": [
    {
     "data": {
      "text/plain": [
       "bool"
      ]
     },
     "execution_count": 11,
     "metadata": {},
     "output_type": "execute_result"
    }
   ],
   "source": [
    "# Declaramos una variable de tipo booleano\n",
    "bool_variable = True\n",
    "\n",
    "type(bool_variable)"
   ]
  },
  {
   "cell_type": "markdown",
   "id": "67b4452f-52df-4eca-8033-440ee6abb5c4",
   "metadata": {},
   "source": [
    "#### Consideraciones al definir variables de tipo *string*\n",
    "\n",
    "Se puede combinar comillas simples y dobles para poder incluir comillas dentro de una variable de tipo texto."
   ]
  },
  {
   "cell_type": "code",
   "execution_count": 12,
   "id": "d982a848-379f-4c43-95b2-46ccd712ca8a",
   "metadata": {},
   "outputs": [],
   "source": [
    "# Declaramos con comillas en caso de que sea necesario\n",
    "book_info = \"El libro se titula 'Piensa claro', de Kiko Llaneras\"\n",
    "book_info = 'El libro se titula \"Piensa claro\", de Kiko Llaneras'"
   ]
  },
  {
   "cell_type": "markdown",
   "id": "ebae2963-fa4b-4eaa-8b12-93c7cc4fae9e",
   "metadata": {
    "toc-hr-collapsed": true
   },
   "source": [
    "#### Convertir un tipo de objeto a otro\n",
    "\n",
    "En ocasiones, se requiere convertir un tipo de variable a otra.\n",
    "\n",
    "Para realizar esta conversión, se utiliza las funciones integradas `str()`, `int()`, `float()` y `bool()`, y Python intenta realizar la conversión o arroja un error si no puede.\n",
    "\n",
    "- `str()`: Conversión a cadena de texto\n",
    "- `int()`: Conversión a número entero\n",
    "- `float()`: Conversión a número decimal\n",
    "- `bool()`: Conversión a booleano"
   ]
  },
  {
   "cell_type": "markdown",
   "id": "fcb98591-97f6-49ff-bf2e-38e72a85fdc3",
   "metadata": {},
   "source": [
    "##### Convertir a cadena de texto"
   ]
  },
  {
   "cell_type": "code",
   "execution_count": 13,
   "id": "3d309986-bdc5-4c84-a0d2-a28ea3ee1a47",
   "metadata": {},
   "outputs": [
    {
     "data": {
      "text/plain": [
       "'15886'"
      ]
     },
     "execution_count": 13,
     "metadata": {},
     "output_type": "execute_result"
    }
   ],
   "source": [
    "number = 15886 \n",
    "\n",
    "# Convertimos una variable de tipo integer a tipo string\n",
    "text = str(number)\n",
    "text"
   ]
  },
  {
   "cell_type": "code",
   "execution_count": 14,
   "id": "efacb901-b24d-4b40-bb4e-8935051000b3",
   "metadata": {},
   "outputs": [
    {
     "data": {
      "text/plain": [
       "str"
      ]
     },
     "execution_count": 14,
     "metadata": {},
     "output_type": "execute_result"
    }
   ],
   "source": [
    "# Consultamos el tipo de objeto de la variable\n",
    "type(text)"
   ]
  },
  {
   "cell_type": "markdown",
   "id": "cb03af20-fdaa-46df-bb0d-0d7bcebb3536",
   "metadata": {},
   "source": [
    "##### Convertir a entero"
   ]
  },
  {
   "cell_type": "code",
   "execution_count": 15,
   "id": "b0b77936-5b0b-49df-91f6-228abd10b0d6",
   "metadata": {},
   "outputs": [
    {
     "data": {
      "text/plain": [
       "12"
      ]
     },
     "execution_count": 15,
     "metadata": {},
     "output_type": "execute_result"
    }
   ],
   "source": [
    "decimal = 12.6\n",
    "\n",
    "# Convertimos una variable de tipo float a tipo integer\n",
    "number = int(decimal)\n",
    "number"
   ]
  },
  {
   "cell_type": "code",
   "execution_count": 16,
   "id": "8e5c84f0-01e9-42e2-98e7-e18ea09d1142",
   "metadata": {},
   "outputs": [
    {
     "data": {
      "text/plain": [
       "int"
      ]
     },
     "execution_count": 16,
     "metadata": {},
     "output_type": "execute_result"
    }
   ],
   "source": [
    "# Consultamos el tipo de objeto de la variable\n",
    "type(number)"
   ]
  },
  {
   "cell_type": "markdown",
   "id": "ba0f09f3-70e2-4ddb-8601-d431c342355a",
   "metadata": {},
   "source": [
    "##### Convertir a decimal"
   ]
  },
  {
   "cell_type": "code",
   "execution_count": 17,
   "id": "618f4b70-60a8-4b5c-961a-2ce8aedfe00e",
   "metadata": {},
   "outputs": [
    {
     "data": {
      "text/plain": [
       "12.6"
      ]
     },
     "execution_count": 17,
     "metadata": {},
     "output_type": "execute_result"
    }
   ],
   "source": [
    "text = \"12.6\"\n",
    "\n",
    "# Convertimos una variable de tipo string a tipo float\n",
    "decimal = float(text)\n",
    "decimal"
   ]
  },
  {
   "cell_type": "code",
   "execution_count": 18,
   "id": "7378f534-7861-43a9-9ead-a4d455ac239d",
   "metadata": {},
   "outputs": [
    {
     "data": {
      "text/plain": [
       "float"
      ]
     },
     "execution_count": 18,
     "metadata": {},
     "output_type": "execute_result"
    }
   ],
   "source": [
    "# Consultamos el tipo de objeto de la variable\n",
    "type(decimal)"
   ]
  },
  {
   "cell_type": "markdown",
   "id": "2240f8c5-415a-498c-923c-35734a63dd03",
   "metadata": {},
   "source": [
    "##### Convertir a booleano\n",
    "\n",
    "La conversión a booleano en Python tiene un comportamiento un poco más particular: cualquier valor que sea considerado \"vacío\" o equivalente a \"falso\" se convertirá en `False`, mientras que todos los demás valores se convertirán en `True`."
   ]
  },
  {
   "cell_type": "code",
   "execution_count": 19,
   "id": "b4ed5086-3632-4614-a5bc-3842a12d07cf",
   "metadata": {},
   "outputs": [
    {
     "data": {
      "text/plain": [
       "True"
      ]
     },
     "execution_count": 19,
     "metadata": {},
     "output_type": "execute_result"
    }
   ],
   "source": [
    "# Convertimos una variable a tipo booleano\n",
    "number = 1\n",
    "\n",
    "boolean = bool(1)\n",
    "boolean"
   ]
  },
  {
   "cell_type": "code",
   "execution_count": 20,
   "id": "43e2fb34-537b-458f-a82b-7fc217e50b46",
   "metadata": {},
   "outputs": [
    {
     "data": {
      "text/plain": [
       "bool"
      ]
     },
     "execution_count": 20,
     "metadata": {},
     "output_type": "execute_result"
    }
   ],
   "source": [
    "# Consultamos el tipo de objeto de la variable\n",
    "type(boolean)"
   ]
  },
  {
   "cell_type": "code",
   "execution_count": 21,
   "id": "5729a267-f8c9-4171-8021-7c39f85b224a",
   "metadata": {},
   "outputs": [
    {
     "data": {
      "text/plain": [
       "True"
      ]
     },
     "execution_count": 21,
     "metadata": {},
     "output_type": "execute_result"
    }
   ],
   "source": [
    "# Esto devuelve True\n",
    "bool(\"Hola\")"
   ]
  },
  {
   "cell_type": "code",
   "execution_count": 22,
   "id": "9529aaed-3eec-471c-ba2f-aa493ab98635",
   "metadata": {},
   "outputs": [
    {
     "data": {
      "text/plain": [
       "False"
      ]
     },
     "execution_count": 22,
     "metadata": {},
     "output_type": "execute_result"
    }
   ],
   "source": [
    "# Esto devuelve False\n",
    "bool(\"\")"
   ]
  },
  {
   "cell_type": "code",
   "execution_count": 23,
   "id": "9a00e330-e883-44be-a462-14e3a5d2c611",
   "metadata": {},
   "outputs": [
    {
     "data": {
      "text/plain": [
       "False"
      ]
     },
     "execution_count": 23,
     "metadata": {},
     "output_type": "execute_result"
    }
   ],
   "source": [
    "# Esto devuelve False\n",
    "bool(0)"
   ]
  },
  {
   "cell_type": "markdown",
   "id": "03114065-c984-4969-9a4e-257a535dc350",
   "metadata": {},
   "source": [
    "#### Consideraciones al convertir un tipo de objeto a otro\n",
    "\n",
    "En determinadas situaciones, Python realiza la conversión de tipos automáticamente (conocida como coerción). Por ejemplo, al realizar operaciones con enteros y decimales, Python convierte automáticamente el entero a un flotante:"
   ]
  },
  {
   "cell_type": "code",
   "execution_count": 24,
   "id": "1c5b2ab7-ceb5-4732-badc-56530da8f63a",
   "metadata": {},
   "outputs": [
    {
     "data": {
      "text/plain": [
       "8.0"
      ]
     },
     "execution_count": 24,
     "metadata": {},
     "output_type": "execute_result"
    }
   ],
   "source": [
    "result = 5 + 3.0  # 5 se convierte automáticamente a 5.0\n",
    "result"
   ]
  },
  {
   "cell_type": "markdown",
   "id": "34fdeb26-905c-446a-b8a9-39f63c226576",
   "metadata": {},
   "source": [
    "⚠️ Si no se puede convertir un tipo de objetivo a otro, Python generará un `ValueError`."
   ]
  },
  {
   "cell_type": "code",
   "execution_count": 25,
   "id": "0c6aa449-d53b-4b05-9ad0-6d66e5867997",
   "metadata": {},
   "outputs": [
    {
     "ename": "ValueError",
     "evalue": "invalid literal for int() with base 10: 'hola'",
     "output_type": "error",
     "traceback": [
      "\u001b[1;31m---------------------------------------------------------------------------\u001b[0m",
      "\u001b[1;31mValueError\u001b[0m                                Traceback (most recent call last)",
      "Cell \u001b[1;32mIn[25], line 2\u001b[0m\n\u001b[0;32m      1\u001b[0m \u001b[38;5;66;03m# Esto generará un error\u001b[39;00m\n\u001b[1;32m----> 2\u001b[0m \u001b[38;5;28mint\u001b[39m(\u001b[38;5;124m\"\u001b[39m\u001b[38;5;124mhola\u001b[39m\u001b[38;5;124m\"\u001b[39m)\n",
      "\u001b[1;31mValueError\u001b[0m: invalid literal for int() with base 10: 'hola'"
     ]
    }
   ],
   "source": [
    "# Esto generará un error\n",
    "int(\"hola\")"
   ]
  },
  {
   "cell_type": "markdown",
   "id": "914807c2-9538-4984-8989-8ce8d3fea693",
   "metadata": {},
   "source": [
    "### 1.2 - Estructuras de datos básicas\n",
    "---\n",
    "\n",
    "Además de variables que contengan un valor único, Python contempla distintas estructuras que permiten almacenar múltiples elementos bajo un mismo objeto. Es decir, una estructura de datos es como un contendor que permite almacenar más de un elemento.\n",
    "\n",
    "De manera nativa, Python ofrece cuatro estructuras con características y métodos propios que las hacen útiles en diferentes situaciones:\n",
    "\n",
    "*   *Lists*\n",
    "*   *Dictionaries*\n",
    "*   *Tuples*\n",
    "*   *Sets*\n",
    "\n",
    "Asimismo, existen estructuras adicionales que se incorporan por medio de librerías, es decir, funcionalidades que no son parte del código fuente de Python. En concreto, en análisis de datos se utiliza principalmente los DataFrames, que son tablas de datos incorporadas por la librería *Pandas*."
   ]
  },
  {
   "cell_type": "markdown",
   "id": "e34f4358-7e8d-432f-bcbe-9f06eb37788d",
   "metadata": {
    "tags": [],
    "toc-hr-collapsed": true
   },
   "source": [
    "#### Listas\n",
    "\n",
    "Las listas (*lists*) son las estructuras más sencillas y utilizadas, dentro de aquellas disponibles en Python base. Una lista se tratan de una estructur unidimensional de datos <u>mutable e indexada</u> que permiten almacenar elementos de cualquier tipo. Cada elemento se encuentra indexado, lo que significa que también se almacena posición específica de cada elemento dentro de la lista.\n",
    "\n",
    "👉 Que una estructura sea mutable significa que los elementos que contiene se pueden modificar, añadir o eliminar después de su creación.\n",
    "\n",
    "👉 Que una estructura sea indexada significa no sólo se almacena la información contenida en ella, sino que también almacena la posición específica de cada elemento dentro de la estructura.\n",
    "\n",
    "⚠️ Python indexa al cero. Esto significa que el 0 es la primer posición para este lenguaje de programación.\n",
    "\n",
    "Para declarar una lista se utiliza la siguiente sintaxis:\n",
    "\n",
    "> ```python\n",
    "> list = [element_1, element_2, element_3]\n",
    "> ```"
   ]
  },
  {
   "cell_type": "code",
   "execution_count": 26,
   "id": "1beaf1e0-1f69-4099-8c7e-db98e5cdfd82",
   "metadata": {},
   "outputs": [
    {
     "data": {
      "text/plain": [
       "['iPhone', 'iPad', 'MacBook', 'Apple Watch', 'AirPods']"
      ]
     },
     "execution_count": 26,
     "metadata": {},
     "output_type": "execute_result"
    }
   ],
   "source": [
    "# Declaramos una lista\n",
    "my_list = [\"iPhone\", \"iPad\", \"MacBook\", \"Apple Watch\", \"AirPods\"]\n",
    "my_list"
   ]
  },
  {
   "cell_type": "code",
   "execution_count": 27,
   "id": "0f8bc195-d028-4de7-becc-964d8039c198",
   "metadata": {},
   "outputs": [
    {
     "data": {
      "text/plain": [
       "list"
      ]
     },
     "execution_count": 27,
     "metadata": {},
     "output_type": "execute_result"
    }
   ],
   "source": [
    "# Comprobamos que la variable es una lista\n",
    "type(my_list)"
   ]
  },
  {
   "cell_type": "markdown",
   "id": "5d61c87e-116d-4b00-8415-34f4e47893cb",
   "metadata": {},
   "source": [
    "Las listas permiten almacenar elementos de diferente tipo en un mismo objeto e incluso contener otras estructuras como elementos."
   ]
  },
  {
   "cell_type": "code",
   "execution_count": 28,
   "id": "e9a48efb-3530-4af0-8cc6-87cb7ef6c36d",
   "metadata": {},
   "outputs": [],
   "source": [
    "# Declaramos una lista con diferentes tipos de objetos\n",
    "apple_info = [\"Apple Inc.\", \"California\", 1976]"
   ]
  },
  {
   "cell_type": "code",
   "execution_count": 29,
   "id": "fa1077b6-31c9-499a-aa16-191688d92bef",
   "metadata": {},
   "outputs": [
    {
     "data": {
      "text/plain": [
       "['Apple Inc.',\n",
       " 'California',\n",
       " 1976,\n",
       " ['iPhone', 'iPad', 'MacBook', 'Apple Watch', 'AirPods']]"
      ]
     },
     "execution_count": 29,
     "metadata": {},
     "output_type": "execute_result"
    }
   ],
   "source": [
    "# Declaramos una lista con la primera lista dentro\n",
    "apple_info = [\"Apple Inc.\", \"California\", 1976, my_list]\n",
    "apple_info"
   ]
  },
  {
   "cell_type": "markdown",
   "id": "132da4ec-12f2-40ed-a410-8fe9aae734c8",
   "metadata": {
    "tags": []
   },
   "source": [
    "##### Secuencias de índice\n",
    "\n",
    "Los elementos de una lista se pueden acceder mediante índices, comenzando desde 0 para el primer elemento y utilizando índices negativos para contar hacia atrás desde el final de la lista.\n",
    "\n",
    "Para acceder a un elemento de una lista, se utiliza la notación de corchetes con el índice correspondiente:\n",
    "\n",
    "> ```python\n",
    "> list[0] # Accede al primer elemento\n",
    "> ```\n",
    "\n",
    "Además, se puede modificar un elemento de la lista indicando su posición y asignando un nuevo valor:\n",
    "\n",
    "> ```python\n",
    "> list[0] = \"new_value\"\n",
    "> ```"
   ]
  },
  {
   "cell_type": "code",
   "execution_count": 30,
   "id": "3ab282d1-2b36-48f3-95f4-a447071d4e82",
   "metadata": {},
   "outputs": [
    {
     "data": {
      "text/plain": [
       "'Apple Inc.'"
      ]
     },
     "execution_count": 30,
     "metadata": {},
     "output_type": "execute_result"
    }
   ],
   "source": [
    "# Invocamos el primer elemento de la lista (el 0 es el primer elemento)\n",
    "apple_info[0]"
   ]
  },
  {
   "cell_type": "code",
   "execution_count": 31,
   "id": "3c9a07fb-6509-4324-99ab-2f388c41cb9f",
   "metadata": {},
   "outputs": [
    {
     "data": {
      "text/plain": [
       "['iPhone', 'iPad', 'MacBook', 'Apple Watch', 'AirPods']"
      ]
     },
     "execution_count": 31,
     "metadata": {},
     "output_type": "execute_result"
    }
   ],
   "source": [
    "# Invocamos el último elemento de la lista (el -1 es el último elemento)\n",
    "apple_info[-1]"
   ]
  },
  {
   "cell_type": "code",
   "execution_count": 32,
   "id": "7b728e9b-55b0-4d69-a2cd-02b1712361d6",
   "metadata": {},
   "outputs": [
    {
     "data": {
      "text/plain": [
       "['Apple Inc.',\n",
       " 'California',\n",
       " 2025,\n",
       " ['iPhone', 'iPad', 'MacBook', 'Apple Watch', 'AirPods']]"
      ]
     },
     "execution_count": 32,
     "metadata": {},
     "output_type": "execute_result"
    }
   ],
   "source": [
    "# Modificamos un elemento dentro de la lista\n",
    "apple_info[2] = 2025\n",
    "\n",
    "# Invocamos la lista completa\n",
    "apple_info"
   ]
  },
  {
   "cell_type": "markdown",
   "id": "d93b014e-3207-429c-9669-44e76b4d15b7",
   "metadata": {},
   "source": [
    "##### Slicing\n",
    "\n",
    "Para acceder a una porción o subsecuencia de una lista (o de otras secuencias, como cadenas de texto y tuplas), se utiliza la técnica conocida como *slicing*. Esta técnica permite, mediante el uso de un rango de índices, obtener una nueva lista que contiene los elementos desde un índice de inicio hasta un índice final, excluyendo este último."
   ]
  },
  {
   "cell_type": "code",
   "execution_count": 33,
   "id": "26e3cbf4-bf4d-4a82-a1f6-c8277320f0fa",
   "metadata": {},
   "outputs": [
    {
     "data": {
      "text/plain": [
       "['Apple Inc.', 'California', 2025]"
      ]
     },
     "execution_count": 33,
     "metadata": {},
     "output_type": "execute_result"
    }
   ],
   "source": [
    "# Invocamos los tres primeros elementos de la lista\n",
    "apple_info[0:3]"
   ]
  },
  {
   "cell_type": "markdown",
   "id": "88f496ce-b31f-47f9-a0d1-40f446b4998c",
   "metadata": {
    "tags": [],
    "toc-hr-collapsed": true
   },
   "source": [
    "#### Diccionarios\n",
    "\n",
    "En ocasiones, es interesante poder invocar elementos de una estructura a partir de valores que se hayan asignado y no según su posición.\n",
    "\n",
    "Los diccionarios (*dictionaries*) son estructuras <u>mutables y no indexadas</u> que permiten almacenar elementos bajo una lógica *key-value pair*. Los elementos depositados se invocan a través de su *key* asignada.\n",
    "\n",
    "⚠️ Los diccionarios no admiten *keys* duplicadas y los elementos almacenados no mantienen un orden ni se encuentran indexados; los valores *pair* se invocan utilizando el *key*.\n",
    "\n",
    "Para declarar un diccionario se utiliza la siguiente sintaxis:\n",
    "\n",
    "> ```python\n",
    "> my_dic = {\n",
    ">     key_1:value_1,\n",
    ">     key_2:value_2,\n",
    ">     key_3:value_3\n",
    "> }\n",
    "> ```"
   ]
  },
  {
   "cell_type": "code",
   "execution_count": 34,
   "id": "9a3267bd-cdf0-46ac-8ba5-8c44e1692e5b",
   "metadata": {},
   "outputs": [
    {
     "data": {
      "text/plain": [
       "{'company': 'Apple Inc.',\n",
       " 'is_public': True,\n",
       " 'industry': 'Technology',\n",
       " 'products': ['iPhone', 'iPad', 'Mac', 'Apple Watch', 'AirPods'],\n",
       " 'market_value': 3000000000000.0}"
      ]
     },
     "execution_count": 34,
     "metadata": {},
     "output_type": "execute_result"
    }
   ],
   "source": [
    "# Declaramos diccionario\n",
    "my_dic = {\n",
    "    \"company\": \"Apple Inc.\",\n",
    "    \"is_public\": True,\n",
    "    \"industry\": \"Technology\",\n",
    "    \"products\": [\"iPhone\", \"iPad\", \"Mac\", \"Apple Watch\", \"AirPods\"],\n",
    "    \"market_value\": 3e12\n",
    "}\n",
    "\n",
    "# Invocamos diccionario\n",
    "my_dic"
   ]
  },
  {
   "cell_type": "code",
   "execution_count": 35,
   "id": "cb1aba23-eea4-4d41-8419-99cdecd61ab3",
   "metadata": {},
   "outputs": [
    {
     "data": {
      "text/plain": [
       "dict"
      ]
     },
     "execution_count": 35,
     "metadata": {},
     "output_type": "execute_result"
    }
   ],
   "source": [
    "# Comprobamos que es un diccionario\n",
    "type(my_dic)"
   ]
  },
  {
   "cell_type": "code",
   "execution_count": 36,
   "id": "8edfd4bb-ab6d-49d7-9f9b-2fded82bd119",
   "metadata": {},
   "outputs": [
    {
     "data": {
      "text/plain": [
       "'Apple Inc.'"
      ]
     },
     "execution_count": 36,
     "metadata": {},
     "output_type": "execute_result"
    }
   ],
   "source": [
    "# Invocamos un elemento del diccionario utilizando su \"key\"\n",
    "my_dic['company']"
   ]
  },
  {
   "cell_type": "code",
   "execution_count": 37,
   "id": "0f2ff955-af5a-429e-9cb6-059fe26125b8",
   "metadata": {},
   "outputs": [
    {
     "data": {
      "text/plain": [
       "{'company': 'Apple Inc.',\n",
       " 'is_public': True,\n",
       " 'industry': 'Technology',\n",
       " 'products': ['iPhone', 'iPad', 'Mac', 'Apple Watch', 'AirPods', 'AirTag'],\n",
       " 'market_value': 3000000000000.0}"
      ]
     },
     "execution_count": 37,
     "metadata": {},
     "output_type": "execute_result"
    }
   ],
   "source": [
    "# Reemplazamos un elemento del diccionario\n",
    "my_dic['products'] = [\"iPhone\", \"iPad\", \"Mac\", \"Apple Watch\", \"AirPods\", \"AirTag\"]\n",
    "my_dic"
   ]
  },
  {
   "cell_type": "markdown",
   "id": "c60dda29-365f-45c6-a8f0-ff53cc3821e6",
   "metadata": {
    "toc-hr-collapsed": true
   },
   "source": [
    "##### Métodos de diccionarios\n",
    "\n",
    "En un diccionario se puede utilizar el método `.keys()` para obtener los valores *key* y el método `.values()` para los valores *pair*."
   ]
  },
  {
   "cell_type": "code",
   "execution_count": 38,
   "id": "cb5fee50-4dc6-4c8a-906c-a6d77654ff58",
   "metadata": {},
   "outputs": [
    {
     "data": {
      "text/plain": [
       "dict_keys(['company', 'is_public', 'industry', 'products', 'market_value'])"
      ]
     },
     "execution_count": 38,
     "metadata": {},
     "output_type": "execute_result"
    }
   ],
   "source": [
    "# Obtenemos los \"key\" del diccionario\n",
    "my_dic.keys()"
   ]
  },
  {
   "cell_type": "code",
   "execution_count": 39,
   "id": "f8f5f1b0-8b00-42a5-adcf-977dd40e9d33",
   "metadata": {},
   "outputs": [
    {
     "data": {
      "text/plain": [
       "dict_values(['Apple Inc.', True, 'Technology', ['iPhone', 'iPad', 'Mac', 'Apple Watch', 'AirPods', 'AirTag'], 3000000000000.0])"
      ]
     },
     "execution_count": 39,
     "metadata": {},
     "output_type": "execute_result"
    }
   ],
   "source": [
    "# Obtenemos los valores \"pair\" del diccionario\n",
    "my_dic.values()"
   ]
  },
  {
   "cell_type": "markdown",
   "id": "3f604da0-f580-4374-801b-b94cdfc1d5c0",
   "metadata": {},
   "source": [
    "#### Tuplas\n",
    "\n",
    "Las tuplas (*tuples*) son estructuras <u>indexadas</u> similares a las listas, pero con la diferencia de que son <u>inmutables</u>. Esto significa que, una vez declaradas, sus elementos no pueden ser modificados.\n",
    "\n",
    "⚠️ La única manera de modificar uno o varios elementos de una tupla es volver a declararla.\n",
    "\n",
    "Para declarar un tuple utilizamos la siguiente sintaxis:\n",
    "\n",
    "> ```python\n",
    "> my_tuple = (element_1, element_2, element_3)\n",
    "> ```"
   ]
  },
  {
   "cell_type": "code",
   "execution_count": 40,
   "id": "f8dad6a9-d338-42da-bad5-9e08af2f2f9d",
   "metadata": {},
   "outputs": [
    {
     "data": {
      "text/plain": [
       "('Apple Inc.', 'California', 1976)"
      ]
     },
     "execution_count": 40,
     "metadata": {},
     "output_type": "execute_result"
    }
   ],
   "source": [
    "# Declaramos una tupla\n",
    "my_tuple = (\"Apple Inc.\", \"California\", 1976)\n",
    "my_tuple"
   ]
  },
  {
   "cell_type": "code",
   "execution_count": 41,
   "id": "d65463be-65aa-4b4f-b247-2d5e8c9668ca",
   "metadata": {},
   "outputs": [
    {
     "data": {
      "text/plain": [
       "tuple"
      ]
     },
     "execution_count": 41,
     "metadata": {},
     "output_type": "execute_result"
    }
   ],
   "source": [
    "# Comprobamos que la variable es una tupla\n",
    "type(my_tuple)"
   ]
  },
  {
   "cell_type": "code",
   "execution_count": 42,
   "id": "3e1bf80c-f382-476e-99df-3d11deb460d8",
   "metadata": {},
   "outputs": [
    {
     "data": {
      "text/plain": [
       "1976"
      ]
     },
     "execution_count": 42,
     "metadata": {},
     "output_type": "execute_result"
    }
   ],
   "source": [
    "# Invocamos el elemento que ocupa la tercera posición en la tupla\n",
    "my_tuple[2]"
   ]
  },
  {
   "cell_type": "code",
   "execution_count": 43,
   "id": "62ab30bb-db24-4a36-b736-0b8657d2ef40",
   "metadata": {},
   "outputs": [
    {
     "ename": "TypeError",
     "evalue": "'tuple' object does not support item assignment",
     "output_type": "error",
     "traceback": [
      "\u001b[1;31m---------------------------------------------------------------------------\u001b[0m",
      "\u001b[1;31mTypeError\u001b[0m                                 Traceback (most recent call last)",
      "Cell \u001b[1;32mIn[43], line 2\u001b[0m\n\u001b[0;32m      1\u001b[0m \u001b[38;5;66;03m# Intentamos modificar un elemento, pero esto dará error porque las tuplas son inmutables\u001b[39;00m\n\u001b[1;32m----> 2\u001b[0m my_tuple[\u001b[38;5;241m2\u001b[39m] \u001b[38;5;241m=\u001b[39m \u001b[38;5;241m1971\u001b[39m\n",
      "\u001b[1;31mTypeError\u001b[0m: 'tuple' object does not support item assignment"
     ]
    }
   ],
   "source": [
    "# Intentamos modificar un elemento, pero esto dará error porque las tuplas son inmutables\n",
    "my_tuple[2] = 1971"
   ]
  },
  {
   "cell_type": "markdown",
   "id": "d7635544-0324-406b-b08c-32b4b1fca1c7",
   "metadata": {},
   "source": [
    "#### Sets\n",
    "\n",
    "La última estructura de datos son los sets, es la menos utilizada y, por lo tanto, la menos importante. Los sets son estructuras <u>inmutables, no indexadas y no ordenadas</u>. La ventaja de un set es que asegura almacenar valores únicos (valores no duplicados). Sin embargo, a diferencia del resto de estructuras, no contempla la opción de invocar elementos individuales dentro de la estructura.\n",
    "\n",
    "Para declarar un set se utiliza la siguiente sintaxis:\n",
    "\n",
    "> ```python\n",
    "> my_set = {element_1, element_2, element_3}\n",
    "> ```"
   ]
  },
  {
   "cell_type": "code",
   "execution_count": 44,
   "id": "8cd6b83b-4c90-493e-9e51-07c14213d942",
   "metadata": {},
   "outputs": [
    {
     "data": {
      "text/plain": [
       "{'Amazon', 'Apple', 'Google', 'Meta', 'Microsoft'}"
      ]
     },
     "execution_count": 44,
     "metadata": {},
     "output_type": "execute_result"
    }
   ],
   "source": [
    "# Declaramos un set\n",
    "my_set = {\"Apple\", \"Apple\", \"Apple\", \"Microsoft\", \"Amazon\", \"Amazon\", \"Google\", \"Meta\"} # Introducimos valores repetidos\n",
    "my_set # Comprobamos que mantiene sólo valores únicos y no ordenados"
   ]
  },
  {
   "cell_type": "code",
   "execution_count": 45,
   "id": "672acf51-99ae-4963-854e-25c42d3ea670",
   "metadata": {},
   "outputs": [
    {
     "data": {
      "text/plain": [
       "set"
      ]
     },
     "execution_count": 45,
     "metadata": {},
     "output_type": "execute_result"
    }
   ],
   "source": [
    "# Comprobamos que la variable es un set\n",
    "type(my_set)"
   ]
  },
  {
   "cell_type": "markdown",
   "id": "fc56aac8-1b98-46b0-8fb3-c38cd32c7977",
   "metadata": {},
   "source": [
    "⚠️ No se puede invocar un elemento en un set por su posición al ser una estructura no idexadas"
   ]
  },
  {
   "cell_type": "code",
   "execution_count": 46,
   "id": "506f3be4-39c3-44cb-a880-dc6fb224d3ce",
   "metadata": {},
   "outputs": [
    {
     "ename": "TypeError",
     "evalue": "'set' object is not subscriptable",
     "output_type": "error",
     "traceback": [
      "\u001b[1;31m---------------------------------------------------------------------------\u001b[0m",
      "\u001b[1;31mTypeError\u001b[0m                                 Traceback (most recent call last)",
      "Cell \u001b[1;32mIn[46], line 2\u001b[0m\n\u001b[0;32m      1\u001b[0m \u001b[38;5;66;03m# Confirmamos que los sets son estructuras no indexadas\u001b[39;00m\n\u001b[1;32m----> 2\u001b[0m my_set[\u001b[38;5;241m2\u001b[39m]\n",
      "\u001b[1;31mTypeError\u001b[0m: 'set' object is not subscriptable"
     ]
    }
   ],
   "source": [
    "# Confirmamos que los sets son estructuras no indexadas\n",
    "my_set[2] # Esto dará un error"
   ]
  },
  {
   "cell_type": "markdown",
   "id": "6eef2605-cfda-4d46-9d15-84363c824fe6",
   "metadata": {},
   "source": [
    "### 1.3 - Operadores\n",
    "---\n",
    "\n",
    "En programación, los operadores son símbolos específicos que permiten realizar comparaciones y manipulaciones de datos. En Python, existen varios tipos de operadores, de los cuales se destacan los siguientes para el análisis de datos:\n",
    "\n",
    "- **Operadores aritméticos:** se utilizan para realizar operaciones matemáticas.\n",
    "- **Operadores de comparación:** se utilizan comparar valores y objetos, devolviendo siempre como resultado `True`/`False`.\n",
    "- **Operadores lógicos:** se utilizan para combinar pruebas lógicas, devolviendo siempre como resultado `True`/`False`."
   ]
  },
  {
   "cell_type": "markdown",
   "id": "3fcfa278-beba-42c6-8732-d73dd2e504b0",
   "metadata": {},
   "source": [
    "#### Operadores aritméticos\n",
    "\n",
    "A continuación, se muestra una tabla con la sintaxis de las operaciones aritméticas en Python:\n",
    "\n",
    "<div style=\"float: left;\">\n",
    "    <table style=\"border: 1px solid black; border-collapse: collapse;\">\n",
    "        <tr>\n",
    "            <th style=\"border: 1px solid black; padding: 8px;\">Operador</th>\n",
    "            <th style=\"border: 1px solid black; padding: 8px;\">Descripción</th></tr>\n",
    "        <tr>\n",
    "          <td style=\"border: 1px solid black; padding: 8px;\"><b><code>x + y</code></b></td>\n",
    "          <td style=\"border: 1px solid black; padding: 8px;\">Suma</td></tr>\n",
    "        <tr>\n",
    "            <td style=\"border: 1px solid black; padding: 8px;\"><b><code>x - y</code></b></td>\n",
    "            <td style=\"border: 1px solid black; padding: 8px;\">Resta</td></tr>\n",
    "        <tr>\n",
    "            <td style=\"border: 1px solid black; padding: 8px;\"><b><code>x * y</code></b></td>\n",
    "            <td style=\"border: 1px solid black; padding: 8px;\">Multiplicación</td></tr>\n",
    "        <tr>\n",
    "            <td style=\"border: 1px solid black; padding: 8px;\"><b><code>x / y</code></b></td>\n",
    "            <td style=\"border: 1px solid black; padding: 8px;\">División</td></tr>\n",
    "        <tr>\n",
    "            <td style=\"border: 1px solid black; padding: 8px;\"><b><code>x ** y</code></b></td>\n",
    "            <td style=\"border: 1px solid black; padding: 8px;\">Exponente</td></tr>\n",
    "        <tr>\n",
    "            <td style=\"border: 1px solid black; padding: 8px;\"><b><code>x // y</code></b></td>\n",
    "            <td style=\"border: 1px solid black; padding: 8px;\">División entera</td></tr>\n",
    "        <tr>\n",
    "            <td style=\"border: 1px solid black; padding: 8px;\"><b><code>x % y</code></b></td>\n",
    "            <td style=\"border: 1px solid black; padding: 8px;\">Resto</td></tr>\n",
    "    </table>\n",
    "</div>"
   ]
  },
  {
   "cell_type": "code",
   "execution_count": 47,
   "id": "c5598a18-81a3-458b-b823-b067d5a2513e",
   "metadata": {},
   "outputs": [],
   "source": [
    "# Declaramos variables numéricas\n",
    "product_price = 100\n",
    "pct_discount = 0.2"
   ]
  },
  {
   "cell_type": "code",
   "execution_count": 48,
   "id": "25c35f49-3eec-4edf-a529-985e928312eb",
   "metadata": {},
   "outputs": [
    {
     "data": {
      "text/plain": [
       "80.0"
      ]
     },
     "execution_count": 48,
     "metadata": {},
     "output_type": "execute_result"
    }
   ],
   "source": [
    "# Utilizamos operadores aritméticos para realizar operaciones matemáticas\n",
    "product_price - (product_price * pct_discount)"
   ]
  },
  {
   "cell_type": "markdown",
   "id": "6ade6896-c97f-4b14-84b4-cdb00355b96a",
   "metadata": {},
   "source": [
    "#### Operadores de comparación\n",
    "\n",
    "A continuación, se muestra una tabla con la sintaxis de las operaciones de comparación en Python:\n",
    "\n",
    "<div style=\"float: left;\">\n",
    "  <table style=\"border: 1px solid black; border-collapse: collapse;\">\n",
    "        <tr>\n",
    "            <th style=\"border: 1px solid black; padding: 8px;\">Operador</th>\n",
    "            <th style=\"border: 1px solid black; padding: 8px;\">Descripción</th></tr>\n",
    "        <tr>\n",
    "            <td style=\"border: 1px solid black; padding: 8px;\"><b><code>x == y</code></b></td>\n",
    "            <td style=\"border: 1px solid black; padding: 8px;\">¿Es x igual a y?</td></tr>\n",
    "        <tr>\n",
    "            <td style=\"border: 1px solid black; padding: 8px;\"><b><code>x != y</code></b></td>\n",
    "            <td style=\"border: 1px solid black; padding: 8px;\">¿x no es igual a y?</td></tr>\n",
    "        <tr>\n",
    "            <td style=\"border: 1px solid black; padding: 8px;\"><b><code>x > y</code></b></td>\n",
    "            <td style=\"border: 1px solid black; padding: 8px;\">¿Es x mayor que y?</td></tr>\n",
    "        <tr>\n",
    "            <td style=\"border: 1px solid black; padding: 8px;\"><b><code>x >= y</code></b></td>\n",
    "            <td style=\"border: 1px solid black; padding: 8px;\">¿Es x mayor o igual que y?</td></tr>\n",
    "        <tr>\n",
    "            <td style=\"border: 1px solid black; padding: 8px;\"><b><code>x < y</code></b></td>\n",
    "            <td style=\"border: 1px solid black; padding: 8px;\">¿Es x menor que y?</td></tr>\n",
    "        <tr>\n",
    "            <td style=\"border: 1px solid black; padding: 8px;\"><b><code>x <= y</code></b></td>\n",
    "            <td style=\"border: 1px solid black; padding: 8px;\">¿Es x menor o igual que y?</td></tr>\n",
    "        <tr>\n",
    "            <td style=\"border: 1px solid black; padding: 8px;\"><b><code>x is y</code></b></td>\n",
    "            <td style=\"border: 1px solid black; padding: 8px;\">¿Es x el mismo objeto que y?</td></tr>\n",
    "    </table>\n",
    "</div>"
   ]
  },
  {
   "cell_type": "code",
   "execution_count": 49,
   "id": "583d7ea0-d97e-4cb7-a834-c79a8eaa0f9c",
   "metadata": {},
   "outputs": [],
   "source": [
    "# Declaramos variables numéricas\n",
    "total_expenses = 200000\n",
    "total_income = 50000\n",
    "initial_investment = 100000"
   ]
  },
  {
   "cell_type": "code",
   "execution_count": 50,
   "id": "f4cdd440-faa0-45ce-9390-2fcbc64cb338",
   "metadata": {},
   "outputs": [
    {
     "data": {
      "text/plain": [
       "True"
      ]
     },
     "execution_count": 50,
     "metadata": {},
     "output_type": "execute_result"
    }
   ],
   "source": [
    "# Utilizamos operadores de comparación para realizar una condición\n",
    "(total_expenses - total_income) > initial_investment"
   ]
  },
  {
   "cell_type": "code",
   "execution_count": 51,
   "id": "53b9af25-069e-4198-aaf4-72d7993b20c0",
   "metadata": {},
   "outputs": [
    {
     "data": {
      "text/plain": [
       "True"
      ]
     },
     "execution_count": 51,
     "metadata": {},
     "output_type": "execute_result"
    }
   ],
   "source": [
    "# Realizamos otra condición\n",
    "2 == 2.0"
   ]
  },
  {
   "cell_type": "markdown",
   "id": "038c8534-3723-406f-80d9-14f01ac7ed26",
   "metadata": {},
   "source": [
    "#### Operadores lógicos\n",
    "\n",
    "A continuación, se muestra una tabla con la sintaxis de las operaciones lógicas en Python:\n",
    "\n",
    "<div style=\"float: left;\">\n",
    "    <table style=\"border: 1px solid black; border-collapse: collapse;\">\n",
    "        <tr>\n",
    "            <th style=\"border: 1px solid black; padding: 8px;\">Operador</th>\n",
    "            <th style=\"border: 1px solid black; padding: 8px;\">Descripción</th></tr>\n",
    "        <tr>\n",
    "            <td style=\"border: 1px solid black; padding: 8px;\"><b><code>x and y</code></b></td>\n",
    "            <td style=\"border: 1px solid black; padding: 8px;\">¿Son x e y verdaderos?</td></tr>\n",
    "        <tr>\n",
    "            <td style=\"border: 1px solid black; padding: 8px;\"><b><code>x or y</code></b></td>\n",
    "            <td style=\"border: 1px solid black; padding: 8px;\">¿Es x ó y verdadero?</td></tr>\n",
    "        <tr>\n",
    "            <td style=\"border: 1px solid black; padding: 8px;\"><b><code>not x</code></b></td>\n",
    "            <td style=\"border: 1px solid black; padding: 8px;\">¿Es x falso?</td></tr>\n",
    "    </table>\n",
    "</div>"
   ]
  },
  {
   "cell_type": "code",
   "execution_count": 52,
   "id": "80a3ef3e-709f-419a-af3f-81c516a135f4",
   "metadata": {},
   "outputs": [],
   "source": [
    "# Declaramos dos variables numéricas\n",
    "x = 10\n",
    "y = 5"
   ]
  },
  {
   "cell_type": "code",
   "execution_count": 53,
   "id": "b1e7943e-0123-4bcd-b589-c811ec7e9156",
   "metadata": {},
   "outputs": [
    {
     "data": {
      "text/plain": [
       "False"
      ]
     },
     "execution_count": 53,
     "metadata": {},
     "output_type": "execute_result"
    }
   ],
   "source": [
    "# Comprobamos si se cumplen ambas condiciones simultáneamente\n",
    "x > 8 and y > 8"
   ]
  },
  {
   "cell_type": "code",
   "execution_count": 54,
   "id": "683d460f-4186-44bc-815e-790f229f9e49",
   "metadata": {},
   "outputs": [
    {
     "data": {
      "text/plain": [
       "True"
      ]
     },
     "execution_count": 54,
     "metadata": {},
     "output_type": "execute_result"
    }
   ],
   "source": [
    "# Comprobamos si se cumple alguna de las dos condiciones\n",
    "x > 8 or y > 8"
   ]
  },
  {
   "cell_type": "code",
   "execution_count": 55,
   "id": "242c3bf0-b98f-4eb6-b957-f325e40516a0",
   "metadata": {},
   "outputs": [
    {
     "data": {
      "text/plain": [
       "False"
      ]
     },
     "execution_count": 55,
     "metadata": {},
     "output_type": "execute_result"
    }
   ],
   "source": [
    "# Negamos una condición\n",
    "not x > 8"
   ]
  },
  {
   "cell_type": "markdown",
   "id": "31b1a7d9-016f-4a24-83bb-0093f2264817",
   "metadata": {},
   "source": [
    "#### Operador `in`\n",
    "\n",
    "El operador `in` se utiliza para comprobar si un valor específico está presente en una secuencia, como una lista, tupla, cadena de texto, entre otros. Es una manera sencilla de verificar si un elemento existe dentro de una colección de datos."
   ]
  },
  {
   "cell_type": "code",
   "execution_count": 56,
   "id": "a28a83c9-6f10-423c-a754-25670d3a2a69",
   "metadata": {},
   "outputs": [],
   "source": [
    "# Declaramos una lista\n",
    "list_cities = ['Madrid', 'Barcelona', 'Valencia', 'Sevilla']"
   ]
  },
  {
   "cell_type": "code",
   "execution_count": 57,
   "id": "8972a512-2bcf-448d-b52b-3d7bd630245c",
   "metadata": {},
   "outputs": [
    {
     "data": {
      "text/plain": [
       "True"
      ]
     },
     "execution_count": 57,
     "metadata": {},
     "output_type": "execute_result"
    }
   ],
   "source": [
    "# Comprobamos si 'Madrid' está incluida en la lista\n",
    "'Madrid' in list_cities"
   ]
  },
  {
   "cell_type": "code",
   "execution_count": 58,
   "id": "fa18089f-bcb5-4275-b4d5-d2d09888704e",
   "metadata": {},
   "outputs": [
    {
     "data": {
      "text/plain": [
       "False"
      ]
     },
     "execution_count": 58,
     "metadata": {},
     "output_type": "execute_result"
    }
   ],
   "source": [
    "# Comprobamos si 'Zamora' está incluida en la lista\n",
    "'Zamora' in list_cities"
   ]
  },
  {
   "cell_type": "markdown",
   "id": "4a359cf7-d49c-490f-ad42-b96ed5636b9b",
   "metadata": {},
   "source": [
    "### 1.4 - Funciones y métodos\n",
    "---\n",
    "\n",
    "Una característica curiosa de Python es la distinción entre funciones y métodos. Aunque ambos podrían considerarse \"funciones\", ya que son bloques de código que se invocan para realizar una tarea específica, su uso y naturaleza difieren ligeramente.\n",
    "\n",
    "**¿Qué son las funciones?**\n",
    "\n",
    "Una función es un bloque de código reutilizable que realiza una tarea específica. Al invocar una función, no es necesario conocer cómo está implementada internamente, sino sólo saber qué hace y qué espera como entrada. Las funciones aceptan parámetros como inputs, los cuales generalmente son variables que previamente se han declarado.\n",
    "\n",
    "La sintaxis genérica de una función es:\n",
    "\n",
    "> ```python\n",
    "> function_name(parameter_1, parameter_2, ..., parameter_n)\n",
    "> ```\n",
    "\n",
    "**¿Qué son los métodos?**\n",
    "\n",
    "Los métodos son funciones asociadas a un tipo de objeto o clase específicos. Mientras que las funciones pueden aplicarse a diversos tipos de objetos, los métodos únicamente se pueden utilizar con el tipo de objeto al que pertenecen.\n",
    "\n",
    "La sintaxis de un método cambia:\n",
    "\n",
    "> ```python\n",
    "> object.method_name(parameter_1, parameter_2, ..., parameter_n)\n",
    "> ```\n",
    "\n",
    "⚠️ A diferencia de una función, en los métodos siempre se comienza con el nombre del objeto.\n",
    "\n",
    "Por ejemplo, en la sección 2 se ha utilizado el método `.keys()`. En este caso, es un método específico para diccionarios y no se puede aplicar a otros tipos de estructuras."
   ]
  },
  {
   "cell_type": "markdown",
   "id": "a2c33cfa-068a-464f-b9d5-b08876256a2f",
   "metadata": {},
   "source": [
    "#### Funciones y métodos para listas\n",
    "\n",
    "Las listas son las estructuras de datos nativas de Python más utilizadas. A continuación, se utilizan métodos y funciones para introducir algunas operaciones útiles al trabajar con este tipo de estructuras.\n",
    "\n",
    "El método `.append()` permite añadir un elemento a una lista de forma dinámica, es decir, sin tener que volver a declarar la variable. En este caso, el nuevo elemento se añade siempre en la última posición."
   ]
  },
  {
   "cell_type": "code",
   "execution_count": 59,
   "id": "64f688bb-4aac-43f7-8b48-5dd7f0737196",
   "metadata": {},
   "outputs": [],
   "source": [
    "# Declaramos una lista\n",
    "list_cities = ['Madrid', 'Barcelona', 'Valencia', 'Sevilla']"
   ]
  },
  {
   "cell_type": "code",
   "execution_count": 60,
   "id": "f88d8f1c-a218-49d6-93fb-2cc06129deec",
   "metadata": {},
   "outputs": [],
   "source": [
    "# Añadimos un elemento a la lista\n",
    "list_cities.append('Zaragoza')"
   ]
  },
  {
   "cell_type": "code",
   "execution_count": 61,
   "id": "9abbc70a-4010-4af4-a869-5725cf2b1b46",
   "metadata": {},
   "outputs": [
    {
     "data": {
      "text/plain": [
       "['Madrid', 'Barcelona', 'Valencia', 'Sevilla', 'Zaragoza']"
      ]
     },
     "execution_count": 61,
     "metadata": {},
     "output_type": "execute_result"
    }
   ],
   "source": [
    "# Invocamos la lista para observar los cambios\n",
    "list_cities"
   ]
  },
  {
   "cell_type": "markdown",
   "id": "69dd66da-17cd-4428-a61c-2945ace8ec56",
   "metadata": {},
   "source": [
    "El método `.insert()` es similar al anterior, pero este permite especificar la posición que queremos que ocupe el nuevo elemento."
   ]
  },
  {
   "cell_type": "code",
   "execution_count": 62,
   "id": "f2d04d1e-81fa-4d5e-9e51-26fe7af35364",
   "metadata": {},
   "outputs": [],
   "source": [
    "# Añadimos un elemento en la primera posición de la lista\n",
    "list_cities.insert(0, 'Londres')"
   ]
  },
  {
   "cell_type": "code",
   "execution_count": 63,
   "id": "adf84ca9-3aee-49ed-bcec-127041d3bc2b",
   "metadata": {},
   "outputs": [
    {
     "data": {
      "text/plain": [
       "['Londres', 'Madrid', 'Barcelona', 'Valencia', 'Sevilla', 'Zaragoza']"
      ]
     },
     "execution_count": 63,
     "metadata": {},
     "output_type": "execute_result"
    }
   ],
   "source": [
    "# Invocamos la lista para observar los cambios\n",
    "list_cities"
   ]
  },
  {
   "cell_type": "markdown",
   "id": "463eaeb6-032b-4057-b1c4-5c50f49126a0",
   "metadata": {},
   "source": [
    "Se puede utilizar `del` para eliminar elementos de una lista según su posición."
   ]
  },
  {
   "cell_type": "code",
   "execution_count": 64,
   "id": "73576b27-51c1-4385-81a1-ac47d6cff648",
   "metadata": {},
   "outputs": [],
   "source": [
    "# Eliminamos el tercer elemento\n",
    "del list_cities[2]"
   ]
  },
  {
   "cell_type": "code",
   "execution_count": 65,
   "id": "f57c7d23-ee3c-4421-93a7-e023217ee12b",
   "metadata": {},
   "outputs": [
    {
     "data": {
      "text/plain": [
       "['Londres', 'Madrid', 'Valencia', 'Sevilla', 'Zaragoza']"
      ]
     },
     "execution_count": 65,
     "metadata": {},
     "output_type": "execute_result"
    }
   ],
   "source": [
    "# Invocamos la lista para observar los cambios\n",
    "list_cities"
   ]
  },
  {
   "cell_type": "markdown",
   "id": "5acf2248-ebe8-481a-b818-07af4a9da3da",
   "metadata": {},
   "source": [
    "En ocasiones, puede resultar más cómodo eliminar elementos según su valor. El método `.remove()` permite hacer esto en una lista."
   ]
  },
  {
   "cell_type": "code",
   "execution_count": 66,
   "id": "aa68d64c-70ee-4d1a-9261-94f5999d1fce",
   "metadata": {},
   "outputs": [],
   "source": [
    "# Eliminar el elemento 'Valencia' de la lista\n",
    "list_cities.remove('Valencia')"
   ]
  },
  {
   "cell_type": "code",
   "execution_count": 67,
   "id": "b448ad59-5106-446f-8a13-036cea80f02e",
   "metadata": {},
   "outputs": [
    {
     "data": {
      "text/plain": [
       "['Londres', 'Madrid', 'Sevilla', 'Zaragoza']"
      ]
     },
     "execution_count": 67,
     "metadata": {},
     "output_type": "execute_result"
    }
   ],
   "source": [
    "# Invocamos la lista para observar los cambios\n",
    "list_cities"
   ]
  },
  {
   "cell_type": "markdown",
   "id": "515164f8-2e42-4c78-a12d-15c2d645cf1d",
   "metadata": {},
   "source": [
    "Para consultar el número de elementos almacenados en un estructura, se utiliza la función `len()`."
   ]
  },
  {
   "cell_type": "code",
   "execution_count": 68,
   "id": "c8ee8fa3-3719-44cf-8ad3-72d81020c170",
   "metadata": {},
   "outputs": [
    {
     "data": {
      "text/plain": [
       "4"
      ]
     },
     "execution_count": 68,
     "metadata": {},
     "output_type": "execute_result"
    }
   ],
   "source": [
    "# Consultamos la cantidad de elementos almacenados\n",
    "len(list_cities)"
   ]
  },
  {
   "cell_type": "markdown",
   "id": "d79bc3ac-3670-48fd-9f3c-5c7b067695be",
   "metadata": {},
   "source": [
    "#### Métodos para *strings*\n",
    "\n",
    "Los *strings* en Python son variables inmutables, lo que significa que no se pueden modificar directamente. Sin embargo, Python proporciona una amplia variedad de métodos que permiten realizar operaciones como búsqueda, modificación, separación y formateo de cadenas."
   ]
  },
  {
   "cell_type": "code",
   "execution_count": 69,
   "id": "ebe851a2-a495-401d-8875-b6a56095a649",
   "metadata": {},
   "outputs": [],
   "source": [
    "# Declaramos una variable de texto\n",
    "text = \"Esto es un texto\" "
   ]
  },
  {
   "cell_type": "code",
   "execution_count": 70,
   "id": "a659eb8d-98c9-4035-97fe-cf89bd1c1e96",
   "metadata": {},
   "outputs": [
    {
     "data": {
      "text/plain": [
       "['E',\n",
       " 's',\n",
       " 't',\n",
       " 'o',\n",
       " ' ',\n",
       " 'e',\n",
       " 's',\n",
       " ' ',\n",
       " 'u',\n",
       " 'n',\n",
       " ' ',\n",
       " 't',\n",
       " 'e',\n",
       " 'x',\n",
       " 't',\n",
       " 'o']"
      ]
     },
     "execution_count": 70,
     "metadata": {},
     "output_type": "execute_result"
    }
   ],
   "source": [
    "# Convertimos el texto en una lista de caracteres individuales\n",
    "list(text)"
   ]
  },
  {
   "cell_type": "markdown",
   "id": "b15e92af-d052-48d6-98e7-c42a5dee9955",
   "metadata": {},
   "source": [
    "El método `.lower()` convierte todos los caracteres de una cadena a minúsculas, mientras que el método `.upper()` lo hace a mayúsculas. Esto es muy útil cuando se necesita normalizar texto."
   ]
  },
  {
   "cell_type": "code",
   "execution_count": 71,
   "id": "d86c2b91-3dab-429a-b6b0-3a3b47e9da45",
   "metadata": {},
   "outputs": [
    {
     "data": {
      "text/plain": [
       "'esto es un texto'"
      ]
     },
     "execution_count": 71,
     "metadata": {},
     "output_type": "execute_result"
    }
   ],
   "source": [
    "# Convertimos la cadena de texto a minúsculas\n",
    "text.lower()"
   ]
  },
  {
   "cell_type": "code",
   "execution_count": 72,
   "id": "e5a4f0f2-b83d-4006-8b0c-b4a92dc4f9da",
   "metadata": {},
   "outputs": [
    {
     "data": {
      "text/plain": [
       "'ESTO ES UN TEXTO'"
      ]
     },
     "execution_count": 72,
     "metadata": {},
     "output_type": "execute_result"
    }
   ],
   "source": [
    "# Convertimos la cadena de texto a mayúsculas\n",
    "text.upper()"
   ]
  },
  {
   "cell_type": "markdown",
   "id": "f2b9ce1d-f689-4ec7-ad04-7a1fa4a8d37f",
   "metadata": {},
   "source": [
    "Otro método de utilidad es `.split()`, que divide una cadena en una lista de substrings, utilizando un separador específico.\n",
    "\n",
    "> ```python\n",
    "> string_variable.split(\"separator\")\n",
    "> ```"
   ]
  },
  {
   "cell_type": "code",
   "execution_count": 73,
   "id": "7a7b0c99-e014-428d-9df2-ad20abd230fc",
   "metadata": {},
   "outputs": [
    {
     "data": {
      "text/plain": [
       "['Esto', 'es', 'un', 'texto']"
      ]
     },
     "execution_count": 73,
     "metadata": {},
     "output_type": "execute_result"
    }
   ],
   "source": [
    "# Dividimos la cadena de texto utilizando el separador predeterminado (espacios en blanco)\n",
    "text.split()"
   ]
  },
  {
   "cell_type": "markdown",
   "id": "b4be5747-bc41-43c1-a84e-7ee0f731496b",
   "metadata": {},
   "source": [
    "Por otro lado, el método `.join()` permite combinar una lista de cadenas en una sola, utilizando un delimitador específico, facilitando la creación de textos formateados.\n",
    "\n",
    "> ```python\n",
    "> \"separator\".join(string_variable)\n",
    "> ```"
   ]
  },
  {
   "cell_type": "code",
   "execution_count": 74,
   "id": "25e8f961-6252-4e44-b2cb-1c8db78c075e",
   "metadata": {},
   "outputs": [
    {
     "data": {
      "text/plain": [
       "'E-s-t-o- -e-s- -u-n- -t-e-x-t-o'"
      ]
     },
     "execution_count": 74,
     "metadata": {},
     "output_type": "execute_result"
    }
   ],
   "source": [
    "# Unimos los caracteres de la cadena de texto con un guion como separador (\"-\")\n",
    "\"-\".join(text)"
   ]
  },
  {
   "cell_type": "markdown",
   "id": "b23ad40b-fb30-4bc6-bc6a-670eadccd806",
   "metadata": {},
   "source": [
    "Además, el método `.replace()` es esencial para sustituir partes de una cadena por otras, permitiendo realizar correcciones rápidas en textos."
   ]
  },
  {
   "cell_type": "code",
   "execution_count": 75,
   "id": "0adcbe74-e0ed-4c6e-ab0e-cab1b8f9a7b4",
   "metadata": {},
   "outputs": [
    {
     "data": {
      "text/plain": [
       "'Esto es Python'"
      ]
     },
     "execution_count": 75,
     "metadata": {},
     "output_type": "execute_result"
    }
   ],
   "source": [
    "# Reemplazamos la primera substring por la segunda\n",
    "text.replace(\"un texto\", \"Python\")"
   ]
  },
  {
   "cell_type": "markdown",
   "id": "293d794a-ef82-45f0-ba61-64324950e0ca",
   "metadata": {},
   "source": [
    "### 1.5 - Condicionales\n",
    "---\n",
    "\n",
    "Una expresión condicional es una serie de pruebas lógicas con respuestas predefinidas en caso de que la condición se cumpla. Para realizar prueba lógicas (testear condiciones) se utiliza siempre el operador de comparación `if`:\n",
    "\n",
    "La sintaxis básica para una expresión condicional es la siguiente:\n",
    "\n",
    "> ```python\n",
    "> if (condition):\n",
    ">     # respuesta si se cumple\n",
    "> ```\n",
    "\n",
    "Si se desean evaluar varias condiciones, se puede utilizar `elif` (abreviatura de \"else if\") y `else`. \n",
    "\n",
    "👉 En caso de tener múltiples condiciones, estas se comprueba en el orden que están escritas. La primera condición en cumplirse activará la respuesta, y las restantes no serán evaluadas.\n",
    "\n",
    "La sintaxis ampliada se presenta de la siguiente manera:\n",
    "\n",
    "> ```python\n",
    "> if (condition_1):\n",
    ">     # respuesta si la condición se cumple \n",
    "> elif (condition_2):\n",
    ">     # respuesta si la condición se cumple \n",
    "> ...\n",
    "> else: \n",
    ">     # respuesta si ninguna de las condiciones anteriores se cumple\n",
    "> ```\n",
    "\n",
    "⚠️ Hay que tener cuidado con la tabulación en los condicionales. Cada bloque de código que sigue a una declaración `if`, `elif` o `else` debe estar indentado con tabuladores."
   ]
  },
  {
   "cell_type": "code",
   "execution_count": 76,
   "id": "81416e44-4813-4cb9-83ab-910cb31251b3",
   "metadata": {},
   "outputs": [
    {
     "name": "stdout",
     "output_type": "stream",
     "text": [
      "El número es positivo\n"
     ]
    }
   ],
   "source": [
    "# Declaramos una variable\n",
    "number = 10\n",
    "\n",
    "# Creamos un condicional para evaluar si un número es positivo\n",
    "if number > 0:\n",
    "  print(\"El número es positivo\")"
   ]
  },
  {
   "cell_type": "code",
   "execution_count": 77,
   "id": "81f99204-b8ef-4243-bac6-75df6460a182",
   "metadata": {},
   "outputs": [
    {
     "name": "stdout",
     "output_type": "stream",
     "text": [
      "El número es negativo\n"
     ]
    }
   ],
   "source": [
    "# Declaramos una nueva variable\n",
    "number = -10\n",
    "\n",
    "# Expandimos el condicional anterior con nuevas comprobaciones\n",
    "# Condición 1: ¿el número es mayor a 0?\n",
    "if number > 0:\n",
    "    print(\"El número es positivo\")\n",
    "# Condición 2: ¿el número es 0?\n",
    "elif number == 0:\n",
    "    print(\"El número es 0\")\n",
    "# Condición 3: ninguna de las condiciones anteriores se cumple\n",
    "else:\n",
    "    print(\"El número es negativo\")"
   ]
  },
  {
   "cell_type": "code",
   "execution_count": 78,
   "id": "a6dd97a3-905d-4c23-8e74-71d554add8c0",
   "metadata": {},
   "outputs": [
    {
     "name": "stdout",
     "output_type": "stream",
     "text": [
      "Texto largo\n"
     ]
    }
   ],
   "source": [
    "# Creamos un condicional para evaluar la longitud de una cadena de texto\n",
    "if len(\"Curso introductorio de Python\") > 20:\n",
    "    length = \"Texto largo\"\n",
    "else:\n",
    "    length = \"Texto corto\"\n",
    "\n",
    "print(length)"
   ]
  },
  {
   "cell_type": "markdown",
   "id": "a5cc1f58-af7a-49f3-ab76-ef501ff69ce3",
   "metadata": {},
   "source": [
    "### 1.6 - Bucles\n",
    "---\n",
    "\n",
    "Las iteraciones se articulan por medio de bucles o *loops*, que son secuencias de instrucciones que se ejecutan un número determinado de veces.\n",
    "\n",
    "La cantidad de ejecuciones depende del tipo específico de bucle\n",
    "\n",
    "- *For loop*: el bucle se repite un número específico de veces.\n",
    "- *While loop*: el bucle se repite siempre y cuando una condición se mantenga cierta.\n",
    "\n",
    "Estos dos tipos de bucles son comunes en cualquier lenguaje de programación. Adicionalmente, Python incorpora una forma simplificada de realizar iteraciones: a través de las *list comprehensions*."
   ]
  },
  {
   "cell_type": "markdown",
   "id": "7cea63da-f1f7-4376-8b58-50f47e616dc3",
   "metadata": {},
   "source": [
    "#### Bucle `for`\n",
    "\n",
    "Un bucle `for` en Python permite ejecutar un bloque de código un número concreto de veces, que generalmente se determina por la cantidad de elementos en una estructura iterable.\n",
    "\n",
    "La sintaxis de un *for loop* es:\n",
    "\n",
    "> ```python\n",
    "> for i in iterable_variable:\n",
    ">     # bloque de código a ejecutar\n",
    "> ```\n",
    "\n",
    "👉 El valor de la variable cambia en cada ciclo del bucle, es decir, en cada iteración.\n",
    "\n",
    "👉 El bloque de código se ejecuta para cada valor en la estructura iterable."
   ]
  },
  {
   "cell_type": "code",
   "execution_count": 79,
   "id": "56522d11-54f8-462b-8ad8-2e88db39f857",
   "metadata": {},
   "outputs": [
    {
     "name": "stdout",
     "output_type": "stream",
     "text": [
      "El cuadrado del número 2 es 4\n",
      "El cuadrado del número 5 es 25\n",
      "El cuadrado del número -1 es 1\n"
     ]
    }
   ],
   "source": [
    "# Creamos un bucle flor que itera sobre cada elemento de una lista\n",
    "for n in [2, 5, -1]: # Esto significa: por cada elemento 'n' de la lista, se ejecuta la siguiente tarea (en el print)\n",
    "    print(f\"El cuadrado del número {n} es {n**2}\")"
   ]
  },
  {
   "cell_type": "markdown",
   "id": "e9f3eb42-ff6c-4c28-939c-a5ff17375011",
   "metadata": {},
   "source": [
    "👉 Para combinar texto con el valor de una variable en un `print()`, se puede utilizar el operador `+` o `f-string`:\n",
    "\n",
    "> ```python\n",
    "> print(\"Text string\" + variable)\n",
    "> ```\n",
    "\n",
    "> ```python\n",
    "> print(f\"Text string {variable}\")\n",
    "> ```"
   ]
  },
  {
   "cell_type": "markdown",
   "id": "7b7efad6-f8d8-4805-a335-d2b3ab408696",
   "metadata": {},
   "source": [
    "##### Uso de `range()`\n",
    "\n",
    "También se puede utilizar rangos para iterar un número específico de veces con la función `range()`, evitando así la necesidad de crear una lista con un número determinado de elementos.\n",
    "\n",
    "> ```python\n",
    "> for i in range(start_number, stop_number):\n",
    ">     # bloque de código a ejecutar\n",
    "> ```\n",
    "\n",
    "⚠️ El límite superior no se incluye en el rango. Es decir, el bucle se ejecutará hasta ese número (sin llegar a él)."
   ]
  },
  {
   "cell_type": "code",
   "execution_count": 80,
   "id": "0f44e3fc-811d-45dd-ab3b-19227732a30f",
   "metadata": {},
   "outputs": [
    {
     "data": {
      "text/plain": [
       "[0, 1, 2, 3, 4, 5, 6, 7, 8, 9]"
      ]
     },
     "execution_count": 80,
     "metadata": {},
     "output_type": "execute_result"
    }
   ],
   "source": [
    "# Creamos una lista utilizando la función range() \n",
    "list(range(10))"
   ]
  },
  {
   "cell_type": "code",
   "execution_count": 81,
   "id": "af581ad8-7fa1-4b93-a99c-a07fcf6a0e3a",
   "metadata": {},
   "outputs": [
    {
     "name": "stdout",
     "output_type": "stream",
     "text": [
      "0\n",
      "1\n",
      "2\n",
      "3\n",
      "4\n",
      "5\n",
      "6\n",
      "7\n",
      "8\n",
      "9\n",
      "10\n"
     ]
    }
   ],
   "source": [
    "# Iteramos 10 veces\n",
    "for i in range(0, 11):\n",
    "    print(i)"
   ]
  },
  {
   "cell_type": "markdown",
   "id": "d55553a8-08c9-4663-b1a8-da3b16bbe588",
   "metadata": {},
   "source": [
    "Además del valor de inicio y final, se puede utilizar un valor de salto con `range()`, lo que permite definir un incremento entre los números generados en la secuencia.\n",
    "    \n",
    "> ```python\n",
    "> range(start_number, stop_number, step)\n",
    "> ```"
   ]
  },
  {
   "cell_type": "code",
   "execution_count": 82,
   "id": "20527401-4e63-4629-b83c-5a5c85d0b932",
   "metadata": {},
   "outputs": [
    {
     "name": "stdout",
     "output_type": "stream",
     "text": [
      "1\n",
      "11\n",
      "21\n",
      "31\n",
      "41\n",
      "51\n",
      "61\n",
      "71\n",
      "81\n",
      "91\n"
     ]
    }
   ],
   "source": [
    "# Iteramos desde 0 hasta 100 con un paso de 10\n",
    "for i in range(1, 101, 10):\n",
    "    print(i)"
   ]
  },
  {
   "cell_type": "markdown",
   "id": "e1ccdeba-89a1-45b1-a1d4-3d66fa7f142f",
   "metadata": {},
   "source": [
    "#### Bucle `while`\n",
    "\n",
    "Un bucle `while` permite ejecutar un bloque de código de forma repetida mientras una condición determinada se evalúe como verdadera. Si la condición se vuelve falsa en algún momento, el bucle se detiene y se sale de él.\n",
    "\n",
    "La sintaxis de un *while loop* es:\n",
    "\n",
    "> ```python\n",
    "> while (condition):\n",
    ">     # bloque de código a ejecutar\n",
    "> ```"
   ]
  },
  {
   "cell_type": "code",
   "execution_count": 83,
   "id": "0f7e89a9-24c8-4d26-94e9-c655985b3333",
   "metadata": {},
   "outputs": [
    {
     "name": "stdout",
     "output_type": "stream",
     "text": [
      "3\n",
      "2\n",
      "1\n",
      "Go!\n"
     ]
    }
   ],
   "source": [
    "# Declaramos una variable numérica\n",
    "n = 3\n",
    "\n",
    "# Creamos un bucle while que se ejecuta iterativamente mientras 'n' sea mayor que 0\n",
    "while n > 0:\n",
    "    print(n) # Imprimimos el valor actual de 'n'\n",
    "    n -= 1 # Restamos 1 al valor de 'n' cada vez que se cumple la condición\n",
    "\n",
    "print(\"Go!\") # Imprimimos un mensaje una vez el bucle ha terminado"
   ]
  },
  {
   "cell_type": "markdown",
   "id": "447794d1-eec6-4f25-85ca-d438db690520",
   "metadata": {},
   "source": [
    "##### Uso de `break`\n",
    "\n",
    "⚠️ Hay que tener cuidado de no crear bucles infinitos. Si esto ocurre, será necesario reiniciar el entorno de programación para restaurar su funcionamiento.\n",
    "\n",
    "Para evitar este problema, se puede utilibra la sentencia `break` para forzar la salida de un bucle `while` bajo ciertas condiciones."
   ]
  },
  {
   "cell_type": "code",
   "execution_count": 84,
   "id": "a48443d5-c7b0-43a5-8ca8-545236721014",
   "metadata": {},
   "outputs": [],
   "source": [
    "# Este es un bucle infito ya que la condición siempre es verdadera\n",
    "#while 1 == 1:\n",
    "#    print(\"Este bucle nunca se detendrá\")"
   ]
  },
  {
   "cell_type": "code",
   "execution_count": 85,
   "id": "4fb092c4-bb94-4e3a-9935-4cb37e989c39",
   "metadata": {},
   "outputs": [
    {
     "name": "stdout",
     "output_type": "stream",
     "text": [
      "Iteración 1, el bucle se detendrá en la 5\n",
      "Iteración 2, el bucle se detendrá en la 5\n",
      "Iteración 3, el bucle se detendrá en la 5\n",
      "Iteración 4, el bucle se detendrá en la 5\n",
      "Iteración 5, el bucle se detendrá en la 5\n",
      "\n",
      "El bucle ha terminado\n"
     ]
    }
   ],
   "source": [
    "# Declaramos una variable para contar el número de iteraciones\n",
    "contador = 0\n",
    "\n",
    "# Creamos un bucle while con una condición que siempre es verdadera\n",
    "while 1 == 1:\n",
    "    contador += 1 # Aumentamos el contador en 1 en cada iteración\n",
    "    print(f\"Iteración {contador}, el bucle se detendrá en la 5\") \n",
    "    \n",
    "    if contador >= 5:  # Creamos una condición para salir del bucle\n",
    "        break  # Salimos del bucle cuando el contador es igual o mayor a 5\n",
    "\n",
    "print(\"\\nEl bucle ha terminado\")"
   ]
  },
  {
   "cell_type": "markdown",
   "id": "78aa016b-d583-45d4-8142-b3fb70df03dd",
   "metadata": {},
   "source": [
    "#### *list comprehensions*\n",
    "\n",
    "Como opción alternativa, Python contempla las *list comprehensions* para realizar iteraciones simples en una única línea de código.\n",
    "\n",
    "A continuación, se incluye la sintaxis general:\n",
    "\n",
    "> ```python\n",
    "> [expression for element in iterable_variable if condition]\n",
    "> ```"
   ]
  },
  {
   "cell_type": "code",
   "execution_count": 86,
   "id": "a2d03f1d-8597-41e8-988e-dbed22c38615",
   "metadata": {},
   "outputs": [
    {
     "data": {
      "text/plain": [
       "[2, 4, 6, 8, 10, 12, 14, 16, 18, 20]"
      ]
     },
     "execution_count": 86,
     "metadata": {},
     "output_type": "execute_result"
    }
   ],
   "source": [
    "# Creamos un bucle que multiplica por dos cada elemento de una lista\n",
    "[x*2 for x in range(1,11)]"
   ]
  },
  {
   "cell_type": "code",
   "execution_count": 87,
   "id": "97bcbc51-081c-416d-bada-1f8ce0065f5c",
   "metadata": {},
   "outputs": [
    {
     "data": {
      "text/plain": [
       "[2, 4, 6, 8, 10]"
      ]
     },
     "execution_count": 87,
     "metadata": {},
     "output_type": "execute_result"
    }
   ],
   "source": [
    "# Añadimos una condición al bucle anterior\n",
    "[x*2 for x in range(1,11) if x <= 5]"
   ]
  },
  {
   "cell_type": "code",
   "execution_count": 88,
   "id": "32c8b345-4214-4023-bc5d-d06e14503eb8",
   "metadata": {},
   "outputs": [
    {
     "data": {
      "text/plain": [
       "['El cuadrado del número 2 es 4',\n",
       " 'El cuadrado del número 5 es 25',\n",
       " 'El cuadrado del número -1 es 1']"
      ]
     },
     "execution_count": 88,
     "metadata": {},
     "output_type": "execute_result"
    }
   ],
   "source": [
    "# Transformamos el bucle for que habíamos creado antes en una list comprehension\n",
    "[f\"El cuadrado del número {n} es {n**2}\" for n in [2, 5, -1]]"
   ]
  },
  {
   "cell_type": "code",
   "execution_count": 89,
   "id": "e95ac1ca-eee0-4dd2-b0d6-a708c87b0397",
   "metadata": {},
   "outputs": [
    {
     "name": "stdout",
     "output_type": "stream",
     "text": [
      "3\n",
      "2\n",
      "1\n"
     ]
    },
    {
     "data": {
      "text/plain": [
       "[None, None, None]"
      ]
     },
     "execution_count": 89,
     "metadata": {},
     "output_type": "execute_result"
    }
   ],
   "source": [
    "# Transformamos el bucle while que habíamos creado antes en una list comprehension\n",
    "[print(i) for i in range(3, 0, -1)]"
   ]
  },
  {
   "cell_type": "markdown",
   "id": "823cbe5a-6156-4226-a17f-651a45c5d528",
   "metadata": {},
   "source": [
    "👉 Para iterar de manera decreciente con `range()`, se puede utilizar un valor de paso negativo:\n",
    "        \n",
    "> ```python\n",
    "> range(start_number, stop_number, -1)\n",
    "> ```   "
   ]
  },
  {
   "cell_type": "markdown",
   "id": "950c2311-a815-45b2-820e-0a7185d0dc13",
   "metadata": {},
   "source": [
    "### 1.7 - Ejercicios\n",
    "---\n",
    "\n",
    "📘 Puedes encontrar las soluciones a los ejercicios [aquí](https://github.com/jorgeggalvan/Data-Analysis-Fundamentals-with-Python/blob/main/Python_Data_Analysis_1.2_Exercises.ipynb)."
   ]
  },
  {
   "cell_type": "markdown",
   "id": "e8299c37-c48f-420a-8113-256a36c1d3e9",
   "metadata": {},
   "source": [
    "#### Ejercicio 1.1\n",
    "\n",
    "Crea una tupla que contenga tres nombres de países y utiliza la indexación de tuplas para asignarlos a variables individuales."
   ]
  },
  {
   "cell_type": "code",
   "execution_count": null,
   "id": "77c3323f-110d-4624-be87-c0324c24497c",
   "metadata": {},
   "outputs": [],
   "source": [
    "# Escribe la solución al ejercicio aquí"
   ]
  },
  {
   "cell_type": "markdown",
   "id": "030d6982-bbe4-46db-a4dc-ae9fef2b7562",
   "metadata": {
    "tags": []
   },
   "source": [
    "#### Ejercicio 1.2\n",
    "\n",
    "Utiliza la indexacion para extraer la palabra 'MDA' de la siguiente lista anidada:\n",
    "\n",
    "> ```python\n",
    "> l = [10, [3, 4], [5, [100, 200, ['MDA']], 20, 30], -1, 2]\n",
    "> ```"
   ]
  },
  {
   "cell_type": "code",
   "execution_count": null,
   "id": "06027e0f-361a-4c86-8048-63680ccd34a4",
   "metadata": {},
   "outputs": [],
   "source": [
    "# Escribe la solución al ejercicio aquí"
   ]
  },
  {
   "cell_type": "markdown",
   "id": "5ec01aba-add5-43d6-8086-1e8cb433a00e",
   "metadata": {},
   "source": [
    "#### Ejercicio 1.3\n",
    "\n",
    "Dada una cadena que contiene una dirección de correo electrónico, como, por ejemplo \"user@domain.com\", extrae el nombre del dominio, que en este caso es \"domain\"."
   ]
  },
  {
   "cell_type": "code",
   "execution_count": null,
   "id": "846961de-e570-4be6-a739-9cf5352142f8",
   "metadata": {},
   "outputs": [],
   "source": [
    "# Escribe la solución al ejercicio aquí"
   ]
  },
  {
   "cell_type": "markdown",
   "id": "c2f79bab-d5d0-44be-b959-7f612d920a7b",
   "metadata": {},
   "source": [
    "#### Ejercicio 1.4\n",
    "\n",
    "Escribe un programa utilizado la estructura `if`/`elif`/`else` para evaluar el valor de la variable `language` y devolver diferentes mensajes según su valor:\n",
    "\n",
    "* Devolver \"¡Me encantan las serpientes!\" si `language` es igual a \"python\" (sin importar si está en mayúsculas o minúsculas)\n",
    "* Devolver \"¿Eres un pirata?\" si `language` es igual a \"R\" (sin importar si está en mayúsculas o minúsculas)\n",
    "* Devolver \"¿Qué es `language`?\" si `language` es cualquier otro valor"
   ]
  },
  {
   "cell_type": "code",
   "execution_count": null,
   "id": "36875f7b-b5e0-4622-b74d-4d24020efa2c",
   "metadata": {},
   "outputs": [],
   "source": [
    "# Escribe la solución al ejercicio aquí"
   ]
  },
  {
   "cell_type": "markdown",
   "id": "a45c954f-791d-41ae-a1a7-db48454de2f6",
   "metadata": {},
   "source": [
    "#### Ejercicio 1.5\n",
    "\n",
    "Crea un bucle `for` que recorra cada elemento de la siguiente lista y despliegue el mensaje \"I love ... \" seguido de cada elemento de la lista.\n",
    "\n",
    "> ```python\n",
    "> food_list = ['pizza', 'sushi', 'pasta', 'paella','tapas']\n",
    "> ```\n",
    "\n",
    "<u>Resultado esperado:</u>  \n",
    "I love pizza  \n",
    "I love sushi \n",
    "I love pasta  \n",
    "I love paella  \n",
    "I love tapas"
   ]
  },
  {
   "cell_type": "code",
   "execution_count": null,
   "id": "9c5dbf4c-c6d4-4558-90db-93c0df98d1f7",
   "metadata": {},
   "outputs": [],
   "source": [
    "# Escribe la solución al ejercicio aquí"
   ]
  },
  {
   "cell_type": "markdown",
   "id": "922932c0-6db4-4908-bb5b-94836083792e",
   "metadata": {},
   "source": [
    "#### Ejercicio 1.6\n",
    "\n",
    "Repite el ejercicio anterior, pero esta vez evita mostrar los elementos 'sushi' y 'tapas' al imprimir, sin modificar la lista original."
   ]
  },
  {
   "cell_type": "code",
   "execution_count": null,
   "id": "a22a7aba-c3e5-400f-9e3a-1a3157345ae9",
   "metadata": {},
   "outputs": [],
   "source": [
    "# Escribe la solución al ejercicio aquí"
   ]
  },
  {
   "cell_type": "markdown",
   "id": "b93b734c-a2d3-4bfa-a7d1-8ab884c36b89",
   "metadata": {},
   "source": [
    "#### Ejercicio 1.7\n",
    "\n",
    "Calcula la suma de los números del 1 al 100 utilizando un bucle `for`."
   ]
  },
  {
   "cell_type": "code",
   "execution_count": null,
   "id": "da6fa3f1-5179-4ab4-9831-15b14b06070c",
   "metadata": {},
   "outputs": [],
   "source": [
    "# Escribe la solución al ejercicio aquí"
   ]
  },
  {
   "cell_type": "markdown",
   "id": "1a6ff1ba-3433-45f2-9b34-a7e77e3e1fd7",
   "metadata": {},
   "source": [
    "#### Ejercicio 1.8\n",
    "\n",
    "Dada una lista de precios de productos, calcula el precio final al aplicar el IVA del 21% a cada uno de ellos. Utiliza una *list comprehension* para realizar este cálculo.\n",
    "\n",
    "> ```python\n",
    "> product_prices = [0.40, 1.90, 9.00, 10.75]\n",
    "> ```"
   ]
  },
  {
   "cell_type": "code",
   "execution_count": null,
   "id": "f311da71-f3f5-41c5-83e8-de9d9514c8b3",
   "metadata": {},
   "outputs": [],
   "source": [
    "# Escribe la solución al ejercicio aquí"
   ]
  }
 ],
 "metadata": {
  "kernelspec": {
   "display_name": "Python 3 (ipykernel)",
   "language": "python",
   "name": "python3"
  },
  "language_info": {
   "codemirror_mode": {
    "name": "ipython",
    "version": 3
   },
   "file_extension": ".py",
   "mimetype": "text/x-python",
   "name": "python",
   "nbconvert_exporter": "python",
   "pygments_lexer": "ipython3",
   "version": "3.12.7"
  },
  "toc-autonumbering": false,
  "toc-showcode": false,
  "toc-showmarkdowntxt": false,
  "toc-showtags": false
 },
 "nbformat": 4,
 "nbformat_minor": 5
}
