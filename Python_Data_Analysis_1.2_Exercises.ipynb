{
 "cells": [
  {
   "cell_type": "markdown",
   "id": "048be9ea-66ac-44f6-b677-333b6ccf159c",
   "metadata": {
    "tags": []
   },
   "source": [
    "# 🐍 **Introducción a Python para el Análisis de Datos**<br>\n",
    "\n",
    "### 👨‍💻 Jorge Gómez Galván\n",
    "* LinkedIn: [linkedin.com/in/jorgeggalvan/](https://www.linkedin.com/in/jorgeggalvan/) \n",
    "* E-mail: gomezgalvanjorge@gmail.com\n",
    "\n",
    "## **Capítulo 1: Python Base - Soluciones a Ejercicios**\n",
    "---\n",
    "\n",
    "Este notebook incluye las soluciones a los ejercicios del [capítulo 1: Python Base](https://github.com/jorgeggalvan/Data-Analysis-Fundamentals-with-Python/blob/main/Python_Data_Analysis_1.1_Base.ipynb) de la Introducción a Python para el Análisis de Datos."
   ]
  },
  {
   "cell_type": "markdown",
   "id": "950c2311-a815-45b2-820e-0a7185d0dc13",
   "metadata": {},
   "source": [
    "### 1. Ejercicios resueltos"
   ]
  },
  {
   "cell_type": "markdown",
   "id": "9feb29e5-8486-43e0-a564-ca9b8d17d50f",
   "metadata": {},
   "source": [
    "#### Ejercicio 1.1\n",
    "---\n",
    "\n",
    "Crea una tupla que contenga tres nombres de países y utiliza la indexación de tuplas para asignarlos a variables individuales."
   ]
  },
  {
   "cell_type": "code",
   "execution_count": 1,
   "id": "55fdae72-4949-4cbb-990a-b02ce1030dad",
   "metadata": {},
   "outputs": [],
   "source": [
    "# Creamos la tupla con tres países\n",
    "country_tuple = ('España', 'Portugal', 'Francia')"
   ]
  },
  {
   "cell_type": "code",
   "execution_count": 2,
   "id": "05c8bece-ccac-4d27-b969-63e99c63a427",
   "metadata": {},
   "outputs": [],
   "source": [
    "# Asignamos los países a variables individuales utilizando indexación\n",
    "country_1 = country_tuple[0]\n",
    "country_2 = country_tuple[1]\n",
    "country_3 = country_tuple[2]"
   ]
  },
  {
   "cell_type": "markdown",
   "id": "030d6982-bbe4-46db-a4dc-ae9fef2b7562",
   "metadata": {
    "tags": []
   },
   "source": [
    "#### Ejercicio 1.2\n",
    "---\n",
    "\n",
    "Utiliza la indexacion para extraer la palabra 'MDA' de la siguiente lista anidada:\n",
    "\n",
    "> ```python\n",
    "> l = [10, [3, 4], [5, [100, 200, ['MDA']], 20, 30], -1, 2]\n",
    "> ```"
   ]
  },
  {
   "cell_type": "code",
   "execution_count": 3,
   "id": "4b4ff79a-cebf-45b1-9268-959b7fce6039",
   "metadata": {},
   "outputs": [],
   "source": [
    "# Declaramos la lista\n",
    "l = [10, [3, 4], [5, [100, 200, ['MDA']], 20, 30], -1, 2]"
   ]
  },
  {
   "cell_type": "code",
   "execution_count": 4,
   "id": "b799451a-645f-4367-8d38-a1a5ea0ec9d5",
   "metadata": {},
   "outputs": [
    {
     "data": {
      "text/plain": [
       "'MDA'"
      ]
     },
     "execution_count": 4,
     "metadata": {},
     "output_type": "execute_result"
    }
   ],
   "source": [
    "# Accedemos a 'MDA'\n",
    "l[2][1][2][0]"
   ]
  },
  {
   "cell_type": "markdown",
   "id": "be8b6756-f977-4b36-81d5-8561ab8c0690",
   "metadata": {
    "tags": []
   },
   "source": [
    "#### Ejercicio 1.3\n",
    "---\n",
    "\n",
    "Dada una cadena que contiene una dirección de correo electrónico, como, por ejemplo \"user@domain.com\", extrae el nombre del dominio, que en este caso es \"domain\"."
   ]
  },
  {
   "cell_type": "code",
   "execution_count": 5,
   "id": "7979110d-8343-4dd1-be25-dbebecd6f047",
   "metadata": {},
   "outputs": [],
   "source": [
    "# Declaramos la cadena de texto con el correo electrónico\n",
    "email = \"user@domain.com\""
   ]
  },
  {
   "cell_type": "code",
   "execution_count": 6,
   "id": "3462ec43-439f-4c0f-824e-0ab0183314b1",
   "metadata": {},
   "outputs": [
    {
     "data": {
      "text/plain": [
       "'domain'"
      ]
     },
     "execution_count": 6,
     "metadata": {},
     "output_type": "execute_result"
    }
   ],
   "source": [
    "# Extraemos el nombre del dominio\n",
    "email.split(\"@\")[1].split(\".\")[0]"
   ]
  },
  {
   "cell_type": "markdown",
   "id": "c2f79bab-d5d0-44be-b959-7f612d920a7b",
   "metadata": {},
   "source": [
    "#### Ejercicio 1.4\n",
    "---\n",
    "\n",
    "Escribe un programa utilizado la estructura `if`/`elif`/`else` para evaluar el valor de la variable `language` y devolver diferentes mensajes según su valor:\n",
    "\n",
    "* Devolver \"¡Me encantan las serpientes!\" si `language` es igual a \"python\" (sin importar si está en mayúsculas o minúsculas)\n",
    "* Devolver \"¿Eres un pirata?\" si `language` es igual a \"R\" (sin importar si está en mayúsculas o minúsculas)\n",
    "* Devolver \"¿Qué es `language`?\" si `language` es cualquier otro valor"
   ]
  },
  {
   "cell_type": "code",
   "execution_count": 7,
   "id": "5155be90-5f6d-45ae-8be4-6e7e77f74a22",
   "metadata": {},
   "outputs": [
    {
     "name": "stdout",
     "output_type": "stream",
     "text": [
      "¡Me encantan las serpientes!\n"
     ]
    }
   ],
   "source": [
    "# Declaramos la variable 'language'\n",
    "language = 'Python'\n",
    "\n",
    "# Se verifica si el lenguaje es \"python\"\n",
    "if language.lower() == 'python':\n",
    "    print(\"¡Me encantan las serpientes!\")\n",
    "# Se verifica si el lenguaje es \"R\"\n",
    "elif language.upper() == 'R':\n",
    "    print(\"¿Eres un pirata?\")\n",
    "# Si el lenguaje no coincide con ninguna de las opciones anteriores\n",
    "else:\n",
    "    print(f\"¿Qué es {language}?\") "
   ]
  },
  {
   "cell_type": "markdown",
   "id": "a45c954f-791d-41ae-a1a7-db48454de2f6",
   "metadata": {},
   "source": [
    "#### Ejercicio 1.5\n",
    "---\n",
    "\n",
    "Crea un bucle `for` que recorra cada elemento de la siguiente lista y despliegue el mensaje \"I love ... \" seguido de cada elemento de la lista.\n",
    "\n",
    "> ```python\n",
    "> food_list = ['pizza', 'sushi', 'pasta', 'paella','tapas']\n",
    "> ```\n",
    "\n",
    "<u>Resultado esperado:</u>  \n",
    "I love pizza  \n",
    "I love sushi \n",
    "I love pasta  \n",
    "I love paella  \n",
    "I love tapas"
   ]
  },
  {
   "cell_type": "code",
   "execution_count": 8,
   "id": "5e4cf6a1-40c2-4315-be9b-04c93d2feeeb",
   "metadata": {},
   "outputs": [],
   "source": [
    "# Declaramos la lista\n",
    "food_list = ['pizza', 'sushi', 'pasta', 'paella','tapas']"
   ]
  },
  {
   "cell_type": "code",
   "execution_count": 9,
   "id": "ed6409a7-211b-4650-a33c-b90bcc1b294e",
   "metadata": {},
   "outputs": [
    {
     "name": "stdout",
     "output_type": "stream",
     "text": [
      "I love pizza\n",
      "I love sushi\n",
      "I love pasta\n",
      "I love paella\n",
      "I love tapas\n"
     ]
    }
   ],
   "source": [
    "# Resolvemos utilizando un bucle for\n",
    "for f in food_list:\n",
    "    print('I love ' + f)"
   ]
  },
  {
   "cell_type": "code",
   "execution_count": 10,
   "id": "cc4f3abd-1673-4ff5-83d8-a613a4f05366",
   "metadata": {},
   "outputs": [
    {
     "name": "stdout",
     "output_type": "stream",
     "text": [
      "I love pizza\n",
      "I love sushi\n",
      "I love pasta\n",
      "I love paella\n",
      "I love tapas\n"
     ]
    },
    {
     "data": {
      "text/plain": [
       "[None, None, None, None, None]"
      ]
     },
     "execution_count": 10,
     "metadata": {},
     "output_type": "execute_result"
    }
   ],
   "source": [
    "# Resolvemos utilizando una list comprehension\n",
    "[print('I love ' + f) for f in food_list]"
   ]
  },
  {
   "cell_type": "markdown",
   "id": "922932c0-6db4-4908-bb5b-94836083792e",
   "metadata": {},
   "source": [
    "#### Ejercicio 1.6\n",
    "---\n",
    "\n",
    "Repite el ejercicio anterior, pero esta vez evita mostrar los elementos 'sushi' y 'tapas' al imprimir, sin modificar la lista original."
   ]
  },
  {
   "cell_type": "code",
   "execution_count": 11,
   "id": "91d05c0c-3034-44d5-805d-6df9e00ac5cb",
   "metadata": {},
   "outputs": [
    {
     "name": "stdout",
     "output_type": "stream",
     "text": [
      "I love pizza\n",
      "I love pasta\n",
      "I love paella\n"
     ]
    }
   ],
   "source": [
    "# Resolvemos utilizando el operador IN\n",
    "for f in food_list:\n",
    "    if f not in ['sushi', 'tapas']:\n",
    "        print('I love ' + f)"
   ]
  },
  {
   "cell_type": "code",
   "execution_count": 12,
   "id": "5b4a48a2-f88d-4e3b-bae9-b85f18bfc05a",
   "metadata": {},
   "outputs": [
    {
     "name": "stdout",
     "output_type": "stream",
     "text": [
      "I love pizza\n",
      "I love pasta\n",
      "I love paella\n"
     ]
    }
   ],
   "source": [
    "# Resolvemos utilizando el operador AND para combinar dos condiciones\n",
    "for f in food_list:\n",
    "    if f != 'sushi' and f != 'tapas':\n",
    "        print('I love ' + f)"
   ]
  },
  {
   "cell_type": "markdown",
   "id": "3686fe3e-0735-4ba2-a24b-294038b31215",
   "metadata": {},
   "source": [
    "#### Ejercicio 1.7\n",
    "---\n",
    "\n",
    "Calcula la suma de los números del 1 al 100 utilizando un bucle `for`."
   ]
  },
  {
   "cell_type": "code",
   "execution_count": 13,
   "id": "9ffbff5f-4b27-4588-8a07-9fdacb7065f1",
   "metadata": {},
   "outputs": [],
   "source": [
    "# Creamos la variable para almacenar el resultado de la suma\n",
    "result = 0\n",
    "\n",
    "# Creamos un bucle for para recorrer un rango de número del 1 al 100\n",
    "for number in range(1, 101):\n",
    "    result += number # Sumamos el número actual a la suma total"
   ]
  },
  {
   "cell_type": "code",
   "execution_count": 14,
   "id": "fce6a19f-fe56-4289-a7e9-bc5f74af8e2d",
   "metadata": {},
   "outputs": [
    {
     "data": {
      "text/plain": [
       "5050"
      ]
     },
     "execution_count": 14,
     "metadata": {},
     "output_type": "execute_result"
    }
   ],
   "source": [
    "# Imprimimos el resultado\n",
    "result"
   ]
  },
  {
   "cell_type": "markdown",
   "id": "805af81e-2256-4230-a7fc-edea74d45889",
   "metadata": {},
   "source": [
    "#### Ejercicio 1.8\n",
    "---\n",
    "\n",
    "Dada una lista de precios de productos, calcula el precio final al aplicar el IVA del 21% a cada uno de ellos. Utiliza una *list comprehension* para realizar este cálculo.\n",
    "\n",
    "> ```python\n",
    "> product_prices = [0.40, 1.90, 9.00, 10.75]\n",
    "> ```"
   ]
  },
  {
   "cell_type": "code",
   "execution_count": 15,
   "id": "6d50f359-4533-49df-89b6-23addbaf527d",
   "metadata": {},
   "outputs": [],
   "source": [
    "# Declaramos la lista\n",
    "product_prices = [0.40, 1.90, 9.00, 10.75]"
   ]
  },
  {
   "cell_type": "code",
   "execution_count": 16,
   "id": "8efb8be0-78d7-4c5c-ac8d-7d70654dff4d",
   "metadata": {},
   "outputs": [
    {
     "data": {
      "text/plain": [
       "[0.484, 2.299, 10.89, 13.0075]"
      ]
     },
     "execution_count": 16,
     "metadata": {},
     "output_type": "execute_result"
    }
   ],
   "source": [
    "# Calculamos el precio final aplicando el IVA del 21%\n",
    "[x*1.21 for x in product_prices]"
   ]
  }
 ],
 "metadata": {
  "kernelspec": {
   "display_name": "Python 3 (ipykernel)",
   "language": "python",
   "name": "python3"
  },
  "language_info": {
   "codemirror_mode": {
    "name": "ipython",
    "version": 3
   },
   "file_extension": ".py",
   "mimetype": "text/x-python",
   "name": "python",
   "nbconvert_exporter": "python",
   "pygments_lexer": "ipython3",
   "version": "3.12.7"
  },
  "toc-autonumbering": false,
  "toc-showcode": false,
  "toc-showmarkdowntxt": false,
  "toc-showtags": false
 },
 "nbformat": 4,
 "nbformat_minor": 5
}
